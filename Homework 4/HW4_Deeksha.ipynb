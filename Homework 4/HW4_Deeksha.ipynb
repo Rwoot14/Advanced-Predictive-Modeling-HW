{
 "cells": [
  {
   "cell_type": "markdown",
   "metadata": {
    "collapsed": true
   },
   "source": [
    "\n",
    "# <p style=\"text-align: center;\">MIS 382: Advanced Predictive Modelling</p>\n",
    "# <p style=\"text-align: center;\">Assignment 4</p>\n",
    "## <p style=\"text-align: center;\">Total points: 60</p>\n",
    "## <p style=\"text-align: center;\">Due: Wednesday, November 8th, submitted via Canvas by 11:59 pm</p>\n",
    "\n",
    "Your homework should be written in a **Jupyter notebook**. You may work in groups if you wish. Only one student per team needs to submit the assignment on Canvas.  But be sure to include name and UTID for all students.  Homework groups will be created and managed through Canvas, so please do not arbitrarily change your homework group.  \n",
    "\n",
    "Also, please make sure your code runs and the graphics (and anything else) are displayed in your notebook before submitting. (%matplotlib inline)"
   ]
  },
  {
   "cell_type": "markdown",
   "metadata": {},
   "source": [
    "# Question 1 - Bayesian Classifiers (15 pts)\n",
    "\n",
    "In this problem, you will classify between digits 8 and 9 of the MNIST dataset using Bayesian classifiers (LDA, QDA and Naive Bayes) The code below loads the dataset and all necessary sklearn modules. Look up any module on the scikit-learn website for a full description.\n",
    "\n",
    "1. Train Linear Discriminant Analysis, Quadratic Discriminant Analysis, and (Gaussian) Naive Bayes. Extract the probability of the class being digits 8 or digits 9 for every row. \n",
    "2. Use this to plot the receiver operating characteristic (ROC) curve. (one figure for all 3 models, with a label for each line) \n",
    "3. Report the area under the ROC curve (AUC) for each model. (5 pts for each model. Total of 15 pts)"
   ]
  },
  {
   "cell_type": "code",
   "execution_count": 8,
   "metadata": {
    "collapsed": true
   },
   "outputs": [],
   "source": [
    "%matplotlib inline\n",
    "import pandas as pd\n",
    "from sklearn.model_selection import train_test_split\n",
    "from sklearn.metrics import roc_curve, roc_auc_score\n",
    "from sklearn.naive_bayes import GaussianNB\n",
    "from sklearn.discriminant_analysis import LinearDiscriminantAnalysis as LDA\n",
    "from sklearn.discriminant_analysis import QuadraticDiscriminantAnalysis as QDA\n",
    "import numpy as np\n",
    "import matplotlib.pyplot as plt"
   ]
  },
  {
   "cell_type": "code",
   "execution_count": 9,
   "metadata": {
    "collapsed": true
   },
   "outputs": [],
   "source": [
    "import matplotlib.pyplot as plt\n",
    "from sklearn.datasets import fetch_mldata\n",
    "\n",
    "mnist = fetch_mldata(\"MNIST original\", data_home='./dataset/')  # data downloaded in'./dataset/', change if necessary\n",
    "\n",
    "X= (mnist.data / 255.)\n",
    "y = mnist.target\n",
    "\n",
    "X_train = X[:60000]\n",
    "y_train = y[:60000]\n",
    "\n",
    "X_test = X[60000:]\n",
    "y_test = y[60000:]"
   ]
  },
  {
   "cell_type": "code",
   "execution_count": 10,
   "metadata": {},
   "outputs": [
    {
     "name": "stdout",
     "output_type": "stream",
     "text": [
      "((11800L, 784L), (11800L,), (1983L, 784L), (1983L,))\n"
     ]
    }
   ],
   "source": [
    "idx = (y_train == 8) + (y_train==9)\n",
    "X_train = X_train[idx]\n",
    "y_train = y_train[idx]\n",
    "y_train = (y_train-8)\n",
    "\n",
    "idx = (y_test == 8) + (y_test==9)\n",
    "X_test = X_test[idx]\n",
    "y_test = y_test[idx]\n",
    "y_test = (y_test-8)\n",
    "\n",
    "print(X_train.shape, y_train.shape, X_test.shape, y_test.shape)"
   ]
  },
  {
   "cell_type": "markdown",
   "metadata": {},
   "source": [
    "#### LDA"
   ]
  },
  {
   "cell_type": "code",
   "execution_count": 11,
   "metadata": {},
   "outputs": [],
   "source": [
    "LDA=LDA()"
   ]
  },
  {
   "cell_type": "code",
   "execution_count": 26,
   "metadata": {},
   "outputs": [],
   "source": [
    "lda_fit=LDA.fit(X_train,y_train)\n",
    "lda_probscore=lda_fit.predict_proba(X_test)\n",
    "lda_score=lda_fit.predict(X_test)"
   ]
  },
  {
   "cell_type": "code",
   "execution_count": 24,
   "metadata": {},
   "outputs": [
    {
     "data": {
      "text/plain": [
       "array([[  9.99740516e-01,   2.59484124e-04],\n",
       "       [  9.99999830e-01,   1.69840181e-07],\n",
       "       [  9.99978789e-01,   2.12106777e-05],\n",
       "       ..., \n",
       "       [  2.82800672e-09,   9.99999997e-01],\n",
       "       [  5.97602137e-08,   9.99999940e-01],\n",
       "       [  1.59061098e-09,   9.99999998e-01]])"
      ]
     },
     "execution_count": 24,
     "metadata": {},
     "output_type": "execute_result"
    }
   ],
   "source": [
    "lda_probscore"
   ]
  },
  {
   "cell_type": "code",
   "execution_count": 27,
   "metadata": {},
   "outputs": [],
   "source": [
    "lda_fpr,lda_tpr,lda_thresh=roc_curve(y_true=y_test,y_score=lda_score)"
   ]
  },
  {
   "cell_type": "code",
   "execution_count": 28,
   "metadata": {},
   "outputs": [
    {
     "data": {
      "text/plain": [
       "0.97065323790200297"
      ]
     },
     "execution_count": 28,
     "metadata": {},
     "output_type": "execute_result"
    }
   ],
   "source": [
    "roc_auc_score(y_true=y_test, y_score=lda_score)"
   ]
  },
  {
   "cell_type": "markdown",
   "metadata": {},
   "source": [
    "#### QDA"
   ]
  },
  {
   "cell_type": "code",
   "execution_count": 15,
   "metadata": {
    "collapsed": true
   },
   "outputs": [],
   "source": [
    "QDA=QDA()"
   ]
  },
  {
   "cell_type": "code",
   "execution_count": 29,
   "metadata": {},
   "outputs": [],
   "source": [
    "qda_fit=QDA.fit(X_train,y_train)\n",
    "qda_probscore=qda_fit.predict_proba(X_test)\n",
    "qda_score=qda_fit.predict(X_test)"
   ]
  },
  {
   "cell_type": "code",
   "execution_count": 31,
   "metadata": {},
   "outputs": [
    {
     "data": {
      "text/plain": [
       "array([[  1.00000000e+000,   1.25488809e-296],\n",
       "       [  1.00000000e+000,   0.00000000e+000],\n",
       "       [  1.00000000e+000,   0.00000000e+000],\n",
       "       ..., \n",
       "       [  0.00000000e+000,   1.00000000e+000],\n",
       "       [  0.00000000e+000,   1.00000000e+000],\n",
       "       [  0.00000000e+000,   1.00000000e+000]])"
      ]
     },
     "execution_count": 31,
     "metadata": {},
     "output_type": "execute_result"
    }
   ],
   "source": [
    "qda_probscore"
   ]
  },
  {
   "cell_type": "code",
   "execution_count": 32,
   "metadata": {
    "collapsed": true
   },
   "outputs": [],
   "source": [
    "qda_fpr,qda_tpr,qda_thresh=roc_curve(y_true=y_test,y_score=qda_score)"
   ]
  },
  {
   "cell_type": "code",
   "execution_count": 33,
   "metadata": {},
   "outputs": [
    {
     "data": {
      "text/plain": [
       "0.93574564036606867"
      ]
     },
     "execution_count": 33,
     "metadata": {},
     "output_type": "execute_result"
    }
   ],
   "source": [
    "roc_auc_score(y_true=y_test, y_score=qda_score)"
   ]
  },
  {
   "cell_type": "markdown",
   "metadata": {},
   "source": [
    "#### Gaussian Naive Bayes"
   ]
  },
  {
   "cell_type": "code",
   "execution_count": 35,
   "metadata": {
    "collapsed": true
   },
   "outputs": [],
   "source": [
    "NB=GaussianNB()\n",
    "nb_fit=NB.fit(X_train,y_train)\n",
    "nb_probscore=nb_fit.predict_proba(X_test)\n",
    "nb_score=nb_fit.predict(X_test)"
   ]
  },
  {
   "cell_type": "code",
   "execution_count": 37,
   "metadata": {},
   "outputs": [
    {
     "data": {
      "text/plain": [
       "array([[  1.00000000e+000,   0.00000000e+000],\n",
       "       [  1.00000000e+000,   0.00000000e+000],\n",
       "       [  1.00000000e+000,   0.00000000e+000],\n",
       "       ..., \n",
       "       [  4.29907815e-178,   1.00000000e+000],\n",
       "       [  2.35127896e-114,   1.00000000e+000],\n",
       "       [  1.72617317e-182,   1.00000000e+000]])"
      ]
     },
     "execution_count": 37,
     "metadata": {},
     "output_type": "execute_result"
    }
   ],
   "source": [
    "nb_probscore"
   ]
  },
  {
   "cell_type": "code",
   "execution_count": 38,
   "metadata": {
    "collapsed": true
   },
   "outputs": [],
   "source": [
    "nb_fpr,nb_tpr,nb_thresh=roc_curve(y_true=y_test,y_score=nb_score)"
   ]
  },
  {
   "cell_type": "code",
   "execution_count": 39,
   "metadata": {},
   "outputs": [
    {
     "data": {
      "text/plain": [
       "0.87368407128451731"
      ]
     },
     "execution_count": 39,
     "metadata": {},
     "output_type": "execute_result"
    }
   ],
   "source": [
    "roc_auc_score(y_true=y_test, y_score=nb_score)"
   ]
  },
  {
   "cell_type": "markdown",
   "metadata": {},
   "source": [
    "### ROC Curve"
   ]
  },
  {
   "cell_type": "code",
   "execution_count": 41,
   "metadata": {},
   "outputs": [
    {
     "data": {
      "image/png": "[encoded data removed]",
      "text/plain": [
       "<matplotlib.figure.Figure at 0xca21048>"
      ]
     },
     "metadata": {},
     "output_type": "display_data"
    }
   ],
   "source": [
    "plt.figure(1)\n",
    "plt.plot([0, 1], [0, 1], 'k--')\n",
    "plt.plot(lda_fpr, lda_tpr, label='LDA')\n",
    "plt.plot(qda_fpr, qda_tpr, label='QDA')\n",
    "plt.plot(nb_fpr, nb_tpr, label='GaussianNB')\n",
    "plt.xlabel('False positive rate')\n",
    "plt.ylabel('True positive rate')\n",
    "plt.title('ROC curve')\n",
    "plt.legend(loc='best')\n",
    "plt.show()"
   ]
  },
  {
   "cell_type": "markdown",
   "metadata": {},
   "source": [
    "# Question 2: Bayesian Networks (10 pts)\n",
    "In the Bayesian Network shown below, the nodes represent the following random variables: S stands for \"Smoking\", LC for \"Lung Cancer\", B for \"Bronchitis\", T for \"Tuberculosis\", D for \"Dyspnea\". The necessary conditional probabilities are provided alongside. "
   ]
  },
  {
   "cell_type": "code",
   "execution_count": 7,
   "metadata": {},
   "outputs": [
    {
     "data": {
      "image/png": "[encoded data removed]",
      "text/plain": [
       "<IPython.core.display.Image object>"
      ]
     },
     "execution_count": 7,
     "metadata": {},
     "output_type": "execute_result"
    }
   ],
   "source": [
    "from IPython.display import Image\n",
    "Image(filename='BayesianNetworks.png')"
   ]
  },
  {
   "cell_type": "markdown",
   "metadata": {},
   "source": [
    "$$Pr(S = yes) = 0.1$$\n",
    "$$Pr(LC = yes | S = yes) = 0.03$$\n",
    "$$Pr(LC = yes | S = no) = 0.01$$\n",
    "$$Pr(B = yes | S = yes) = 0.06$$\n",
    "$$Pr(B = yes | S = no) = 0.02$$\n",
    "$$Pr(T = yes | LC = yes, B = yes) = 0.8$$\n",
    "$$Pr(T = yes | LC = yes, B = no) = 0.5$$\n",
    "$$Pr(T = yes | LC = no, B = yes) = 0.1$$\n",
    "$$Pr(T = yes | LC = no, B = no) = 0.04$$\n",
    "$$Pr(D = yes | T = yes, B = yes) = 0.9$$\n",
    "$$Pr(D = yes | T = yes, B = no) = 0.7$$\n",
    "$$Pr(D = yes | T = no, B = yes) = 0.65$$\n",
    "$$Pr(D = yes | T = no, B = no) = 0.015$$"
   ]
  },
  {
   "cell_type": "markdown",
   "metadata": {},
   "source": [
    "Compute the following probabilities:\n",
    "\n",
    "(a) (2 pts) $Pr(D = yes)$\n",
    "\n",
    "(b) (2 pts) $Pr(LC = no, B = yes, D = yes)$\n",
    "\n",
    "(c) (3 pts) Given that a person has Bronchitis (B = yes) and no Lung Cancer (LC = no), the probability he will has symptoms of Dyspnea (D = yes).\n",
    "\n",
    "(d) (3 pts) Given that a person is a smoker (S = yes), the probability he will get infected with Tuberculosis (T = yes)."
   ]
  },
  {
   "cell_type": "markdown",
   "metadata": {},
   "source": [
    "## Solutions"
   ]
  },
  {
   "cell_type": "markdown",
   "metadata": {},
   "source": [
    "# Question 3 - Logistic Regression Classification (15pts)\n",
    "\n",
    "Using the MNIST dataset in Q1, the goal is to build a Logistic Regression classifier to classify between digits $\\textbf{8 and 9}$.  Note that the imported MNIST dataset has 10 labels, from digits 0 to 9.  Use the code below to access the data set and extract the MNIST data."
   ]
  },
  {
   "cell_type": "code",
   "execution_count": 36,
   "metadata": {
    "collapsed": true
   },
   "outputs": [],
   "source": [
    "# Use code from Q1 to import the data"
   ]
  },
  {
   "cell_type": "markdown",
   "metadata": {},
   "source": [
    "1. Train a logistic regression with almost no regularization (pass l2 (ridge) to penalty and 1,000,000 to the C parameter which is the inverse of regularization strength lambda. This essentially does l2 regularization but applies very little weight to the penalty term) and report the [confusion matrix](http://scikit-learn.org/stable/modules/generated/sklearn.metrics.confusion_matrix.html) on the test data. Also report the accuracy for the \"y = 0\" class, the \"y = 1\" class, and the average per-class accuracy on the test data. Average per-class accuracy is described in this [post](http://rasbt.github.io/mlxtend/user_guide/evaluate/scoring/). You can use your confusion matrix to calculate this.  (4pts)"
   ]
  },
  {
   "cell_type": "code",
   "execution_count": 49,
   "metadata": {
    "collapsed": true
   },
   "outputs": [],
   "source": [
    "from sklearn.linear_model import LogisticRegression\n",
    "from sklearn.metrics import confusion_matrix,make_scorer,accuracy_score\n",
    "from sklearn.model_selection import GridSearchCV"
   ]
  },
  {
   "cell_type": "code",
   "execution_count": 50,
   "metadata": {
    "collapsed": true
   },
   "outputs": [],
   "source": [
    "logistic_reg=LogisticRegression(penalty='l2',C=1000000)\n",
    "logistic_fit=logistic_reg.fit(X_train,y_train)\n",
    "pred=logistic_fit.predict(X_test)\n"
   ]
  },
  {
   "cell_type": "code",
   "execution_count": 51,
   "metadata": {},
   "outputs": [],
   "source": [
    "confus=confusion_matrix(y_test, pred)"
   ]
  },
  {
   "cell_type": "code",
   "execution_count": 52,
   "metadata": {},
   "outputs": [
    {
     "data": {
      "text/plain": [
       "array([[939,  35],\n",
       "       [ 35, 974]])"
      ]
     },
     "execution_count": 52,
     "metadata": {},
     "output_type": "execute_result"
    }
   ],
   "source": [
    "confus"
   ]
  },
  {
   "cell_type": "code",
   "execution_count": 53,
   "metadata": {},
   "outputs": [
    {
     "name": "stdout",
     "output_type": "stream",
     "text": [
      "y=0 Accuracy: 0.964065708419\n"
     ]
    }
   ],
   "source": [
    "print 'y=0 Accuracy:',confus[0][0]/float(confus[0][0]+confus[0][1])"
   ]
  },
  {
   "cell_type": "code",
   "execution_count": 54,
   "metadata": {},
   "outputs": [
    {
     "name": "stdout",
     "output_type": "stream",
     "text": [
      "y=1 Accuracy: 0.965312190287\n"
     ]
    }
   ],
   "source": [
    "print 'y=1 Accuracy:',confus[1][1]/float(confus[1][0]+confus[1][1])"
   ]
  },
  {
   "cell_type": "code",
   "execution_count": 56,
   "metadata": {},
   "outputs": [
    {
     "name": "stdout",
     "output_type": "stream",
     "text": [
      " Average Per Class Accuracy: 0.964699949571\n"
     ]
    }
   ],
   "source": [
    "print 'Average Per Class Accuracy:', logistic_fit.score(X=X_test,y=y_test)"
   ]
  },
  {
   "cell_type": "markdown",
   "metadata": {},
   "source": [
    "2. Repeat step 1 except use l2 penalty with Cs of [0.01, 0.1, 1, 10 ,100]. You will want to use 3-fold cross validation to select the best parameter. To evaluate which parameter is best, maximize the average per-class accuracy. To help with this task, check out [GridSearchCV](http://scikit-learn.org/stable/modules/generated/sklearn.model_selection.GridSearchCV.html#sklearn.model_selection.GridSearchCV) and how to make your own [custom scorer](http://scikit-learn.org/stable/modules/model_evaluation.html).  (4pts)"
   ]
  },
  {
   "cell_type": "code",
   "execution_count": 57,
   "metadata": {
    "collapsed": true
   },
   "outputs": [],
   "source": [
    "def my_score(y_true,y_pred):\n",
    "    confusion=confusion_matrix(y_true,y_pred)\n",
    "    return (confusion[0][0]+confusion[1][1])/float(len(y_true))"
   ]
  },
  {
   "cell_type": "code",
   "execution_count": 58,
   "metadata": {
    "collapsed": true
   },
   "outputs": [],
   "source": [
    "my_scorer=make_scorer(my_score)"
   ]
  },
  {
   "cell_type": "code",
   "execution_count": 68,
   "metadata": {
    "collapsed": true
   },
   "outputs": [],
   "source": [
    "logistic_reg2 = GridSearchCV(LogisticRegression(penalty='l2'), param_grid={'C': [0.01, 0.1, 1, 10 ,100]},scoring=my_scorer)"
   ]
  },
  {
   "cell_type": "code",
   "execution_count": 69,
   "metadata": {
    "collapsed": true
   },
   "outputs": [],
   "source": [
    "logistic_fit2=logistic_reg2.fit(X_train,y_train)\n",
    "pred2=logistic_fit2.predict(X_test)"
   ]
  },
  {
   "cell_type": "code",
   "execution_count": 70,
   "metadata": {},
   "outputs": [
    {
     "data": {
      "text/plain": [
       "{'C': 1}"
      ]
     },
     "execution_count": 70,
     "metadata": {},
     "output_type": "execute_result"
    }
   ],
   "source": [
    "logistic_fit2.best_params_"
   ]
  },
  {
   "cell_type": "code",
   "execution_count": 71,
   "metadata": {
    "collapsed": true
   },
   "outputs": [],
   "source": [
    "confus2=confusion_matrix(y_test,pred2)"
   ]
  },
  {
   "cell_type": "code",
   "execution_count": 72,
   "metadata": {},
   "outputs": [
    {
     "data": {
      "text/plain": [
       "array([[957,  17],\n",
       "       [ 22, 987]])"
      ]
     },
     "execution_count": 72,
     "metadata": {},
     "output_type": "execute_result"
    }
   ],
   "source": [
    "confus2"
   ]
  },
  {
   "cell_type": "code",
   "execution_count": 73,
   "metadata": {},
   "outputs": [
    {
     "name": "stdout",
     "output_type": "stream",
     "text": [
      "y=0 Accuracy: 0.982546201232\n"
     ]
    }
   ],
   "source": [
    "print 'y=0 Accuracy:',confus2[0][0]/float(confus2[0][0]+confus2[0][1])"
   ]
  },
  {
   "cell_type": "code",
   "execution_count": 74,
   "metadata": {},
   "outputs": [
    {
     "name": "stdout",
     "output_type": "stream",
     "text": [
      "y=1 Accuracy: 0.978196233895\n"
     ]
    }
   ],
   "source": [
    "print 'y=1 Accuracy:',confus2[1][1]/float(confus2[1][0]+confus2[1][1])"
   ]
  },
  {
   "cell_type": "code",
   "execution_count": 75,
   "metadata": {},
   "outputs": [
    {
     "name": "stdout",
     "output_type": "stream",
     "text": [
      "Average Per Class Accuracy: 0.980332829047\n"
     ]
    }
   ],
   "source": [
    "print 'Average Per Class Accuracy:', logistic_fit2.score(X=X_test,y=y_test)"
   ]
  },
  {
   "cell_type": "markdown",
   "metadata": {},
   "source": [
    "3. Repeat question 2 except use l1 instead of l2 as the penalty type, use Cs of  [0.01, ..., 100].  Compare the performances of the models (no regularization, l2, l1) using the average per-class accuracy.  (3pts)"
   ]
  },
  {
   "cell_type": "code",
   "execution_count": 76,
   "metadata": {
    "collapsed": true
   },
   "outputs": [],
   "source": [
    "logistic_reg3 = GridSearchCV(LogisticRegression(penalty='l1'), param_grid={'C': [0.01, 0.1, 1, 10 ,100]},scoring=my_scorer)"
   ]
  },
  {
   "cell_type": "code",
   "execution_count": 77,
   "metadata": {
    "collapsed": true
   },
   "outputs": [],
   "source": [
    "logistic_fit3=logistic_reg3.fit(X_train,y_train)\n",
    "pred3=logistic_fit3.predict(X_test)"
   ]
  },
  {
   "cell_type": "code",
   "execution_count": 78,
   "metadata": {},
   "outputs": [
    {
     "data": {
      "text/plain": [
       "{'C': 1}"
      ]
     },
     "execution_count": 78,
     "metadata": {},
     "output_type": "execute_result"
    }
   ],
   "source": [
    "logistic_fit3.best_params_"
   ]
  },
  {
   "cell_type": "code",
   "execution_count": 79,
   "metadata": {
    "collapsed": true
   },
   "outputs": [],
   "source": [
    "confus3=confusion_matrix(y_test,pred3)"
   ]
  },
  {
   "cell_type": "code",
   "execution_count": 80,
   "metadata": {},
   "outputs": [
    {
     "data": {
      "text/plain": [
       "array([[955,  19],\n",
       "       [ 20, 989]])"
      ]
     },
     "execution_count": 80,
     "metadata": {},
     "output_type": "execute_result"
    }
   ],
   "source": [
    "confus3"
   ]
  },
  {
   "cell_type": "code",
   "execution_count": 81,
   "metadata": {},
   "outputs": [
    {
     "name": "stdout",
     "output_type": "stream",
     "text": [
      "y=0 Accuracy: 0.980492813142\n"
     ]
    }
   ],
   "source": [
    "print 'y=0 Accuracy:',confus3[0][0]/float(confus3[0][0]+confus3[0][1])"
   ]
  },
  {
   "cell_type": "code",
   "execution_count": 82,
   "metadata": {},
   "outputs": [
    {
     "name": "stdout",
     "output_type": "stream",
     "text": [
      "y=1 Accuracy: 0.98017839445\n"
     ]
    }
   ],
   "source": [
    "print 'y=1 Accuracy:',confus3[1][1]/float(confus3[1][0]+confus3[1][1])"
   ]
  },
  {
   "cell_type": "code",
   "execution_count": 83,
   "metadata": {},
   "outputs": [
    {
     "name": "stdout",
     "output_type": "stream",
     "text": [
      "Average Per Class Accuracy: 0.980332829047\n"
     ]
    }
   ],
   "source": [
    "print 'Average Per Class Accuracy:', logistic_fit3.score(X=X_test,y=y_test)"
   ]
  },
  {
   "cell_type": "markdown",
   "metadata": {},
   "source": [
    "Regularization has improved the average per class accuracy from 0.965 to 0.98. However, l2 and l1 regularizations result in the same average per class accuracy in this case. Comparing the two confusion matrices, we can see that the change in regularization method from l1 to l2 has resulted in a decrease in true positives by 2 but an increase in true negatives by the same amount. Hence, the average per class accuracy did not change."
   ]
  },
  {
   "cell_type": "markdown",
   "metadata": {},
   "source": [
    "4. Using the optimal regularization parameter obtained in step 2, train a logistic regression classifier with ridge penalty to clasify $\\textbf{all 10 digits}$ (digits 0,1,2,3,...9) of the MNIST dataset.  Use 'newton-cg' and 'multinomial' options for solver and multi_class parameters, respectively. Report the average per-class accuracy and confusion matrix (10 X 10) on the test data. (4pts)"
   ]
  },
  {
   "cell_type": "code",
   "execution_count": 85,
   "metadata": {
    "collapsed": true
   },
   "outputs": [],
   "source": [
    "import matplotlib.pyplot as plt\n",
    "from sklearn.datasets import fetch_mldata\n",
    "\n",
    "mnist = fetch_mldata(\"MNIST original\", data_home='./dataset/')  # data downloaded in'./dataset/', change if necessary\n",
    "\n",
    "X= (mnist.data / 255.)\n",
    "y = mnist.target\n",
    "\n",
    "X_train = X[:60000]\n",
    "y_train = y[:60000]\n",
    "\n",
    "X_test = X[60000:]\n",
    "y_test = y[60000:]"
   ]
  },
  {
   "cell_type": "code",
   "execution_count": 87,
   "metadata": {
    "collapsed": true
   },
   "outputs": [],
   "source": [
    "logistic_reg4=LogisticRegression(penalty='l2',C=1,solver='newton-cg',multi_class='multinomial')\n",
    "logistic_fit4=logistic_reg4.fit(X_train,y_train)\n",
    "pred4=logistic_fit4.predict(X_test)"
   ]
  },
  {
   "cell_type": "code",
   "execution_count": 88,
   "metadata": {},
   "outputs": [
    {
     "data": {
      "text/plain": [
       "array([[ 955,    0,    2,    4,    1,   10,    4,    3,    1,    0],\n",
       "       [   0, 1110,    5,    2,    0,    2,    3,    2,   11,    0],\n",
       "       [   6,    9,  930,   14,   10,    3,   12,   10,   34,    4],\n",
       "       [   4,    1,   16,  925,    1,   23,    2,   10,   19,    9],\n",
       "       [   1,    3,    7,    3,  921,    0,    6,    5,    6,   30],\n",
       "       [   9,    2,    3,   35,   10,  777,   15,    6,   31,    4],\n",
       "       [   8,    3,    8,    2,    6,   16,  912,    2,    1,    0],\n",
       "       [   1,    7,   23,    7,    6,    1,    0,  947,    4,   32],\n",
       "       [   9,   11,    6,   22,    7,   29,   13,   10,  855,   12],\n",
       "       [   9,    8,    1,    9,   21,    7,    0,   21,    9,  924]])"
      ]
     },
     "execution_count": 88,
     "metadata": {},
     "output_type": "execute_result"
    }
   ],
   "source": [
    "confusion_matrix(y_true=y_test,y_pred=pred4)"
   ]
  },
  {
   "cell_type": "code",
   "execution_count": 89,
   "metadata": {},
   "outputs": [
    {
     "name": "stdout",
     "output_type": "stream",
     "text": [
      "Average Per Class Accuracy: 0.9256\n"
     ]
    }
   ],
   "source": [
    "print 'Average Per Class Accuracy:', logistic_fit4.score(X=X_test,y=y_test)"
   ]
  },
  {
   "cell_type": "markdown",
   "metadata": {},
   "source": [
    "# Question 4: Regression Trees (6+5+4 = 15 points)\n",
    "In this question, we will be exploring the application of regression tree (RT) using sklearn package in Python. \n",
    "\n",
    "You will be using an NBA dataset (nbasalariesfull.csv) to predict a player’s Salary (in terms of millions, ie Salary / 1000000 ) using all the numeric performance variables available ( so everything but Player, Team, and Position ). \n",
    "\n",
    "- a. Use a random state of 42 and a test size of 1/3 to split the data into training and test.\n",
    "     \n",
    "         Build a regression using DecisionTreeRegressor with max_depth = 6. \n",
    "         Report the mean squared errors on both training and test datasets.( 6 points )"
   ]
  },
  {
   "cell_type": "code",
   "execution_count": 90,
   "metadata": {
    "collapsed": true
   },
   "outputs": [],
   "source": [
    "import pandas as pd\n",
    "from sklearn.tree import DecisionTreeRegressor\n",
    "from sklearn.metrics import mean_squared_error"
   ]
  },
  {
   "cell_type": "code",
   "execution_count": 91,
   "metadata": {
    "collapsed": true
   },
   "outputs": [],
   "source": [
    "data=pd.read_csv('nbasalariesfull.csv')"
   ]
  },
  {
   "cell_type": "code",
   "execution_count": 98,
   "metadata": {},
   "outputs": [],
   "source": [
    "data2=data.iloc[:,3:]\n"
   ]
  },
  {
   "cell_type": "code",
   "execution_count": 101,
   "metadata": {
    "collapsed": true
   },
   "outputs": [],
   "source": [
    "X=data.iloc[:,3:-1]\n",
    "y=data.iloc[:,-1:]\n",
    "from sklearn.model_selection import train_test_split\n",
    "X_train,X_test,y_train,y_test=train_test_split(X, y, test_size=0.33, random_state=42)"
   ]
  },
  {
   "cell_type": "code",
   "execution_count": 102,
   "metadata": {},
   "outputs": [
    {
     "name": "stdout",
     "output_type": "stream",
     "text": [
      "Train MSE: 3.10898385635e+12\n",
      "Test MSE: 1.98404981088e+13\n"
     ]
    }
   ],
   "source": [
    "regressor = DecisionTreeRegressor(random_state=42,max_depth=6)\n",
    "fit=regressor.fit(X=X_train,y=y_train)\n",
    "pred_test=fit.predict(X_test)\n",
    "pred_train=fit.predict(X_train)\n",
    "mse_train=mean_squared_error(y_train,pred_train)\n",
    "mse_test=mean_squared_error(y_test,pred_test)\n",
    "print 'Train MSE:', mse_train\n",
    "print 'Test MSE:', mse_test"
   ]
  },
  {
   "cell_type": "markdown",
   "metadata": {},
   "source": [
    "- b. Repeat Part-1 with max_depth = 2. (5 points )"
   ]
  },
  {
   "cell_type": "code",
   "execution_count": 103,
   "metadata": {},
   "outputs": [
    {
     "name": "stdout",
     "output_type": "stream",
     "text": [
      "Train MSE: 1.21381635555e+13\n",
      "Test MSE: 1.68555751673e+13\n"
     ]
    }
   ],
   "source": [
    "regressor = DecisionTreeRegressor(random_state=42,max_depth=2)\n",
    "fit=regressor.fit(X=X_train,y=y_train)\n",
    "pred_test=fit.predict(X_test)\n",
    "pred_train=fit.predict(X_train)\n",
    "mse_train=mean_squared_error(y_train,pred_train)\n",
    "mse_test=mean_squared_error(y_test,pred_test)\n",
    "print 'Train MSE:', mse_train\n",
    "print 'Test MSE:', mse_test"
   ]
  },
  {
   "cell_type": "markdown",
   "metadata": {},
   "source": [
    "- c. Briefly explain what you observe from these MSE values obtained by using maximum tree depths 6 and 2? \n",
    "         Which tree is better and why? ( 4 points )"
   ]
  },
  {
   "cell_type": "markdown",
   "metadata": {},
   "source": [
    "We can see from the MSE values that train MSE is lowest in when the depth is 6. However, test MSE is slightly better when the depth is 2. This indicates that the tree with depth 6 is probably over-fitting the train data, resulting in a low MSE on train data. The tree with depth 2 is better because it results in a slightly better MSE than the more complex depth 6 tree. In addition, since this tree has a very small depth, it is easily interpretable."
   ]
  },
  {
   "cell_type": "markdown",
   "metadata": {},
   "source": [
    "## Solutions"
   ]
  },
  {
   "cell_type": "markdown",
   "metadata": {},
   "source": [
    "# Question 5.  AUC vs Lift Curve ( 5 points )\n",
    "Describe the similarities and differences between AUC and Lift Curves."
   ]
  },
  {
   "cell_type": "markdown",
   "metadata": {},
   "source": [
    "## Solution"
   ]
  }
 ],
 "metadata": {
  "kernelspec": {
   "display_name": "Python 2",
   "language": "python",
   "name": "python2"
  },
  "language_info": {
   "codemirror_mode": {
    "name": "ipython",
    "version": 2
   },
   "file_extension": ".py",
   "mimetype": "text/x-python",
   "name": "python",
   "nbconvert_exporter": "python",
   "pygments_lexer": "ipython2",
   "version": "2.7.13"
  }
 },
 "nbformat": 4,
 "nbformat_minor": 1
}
