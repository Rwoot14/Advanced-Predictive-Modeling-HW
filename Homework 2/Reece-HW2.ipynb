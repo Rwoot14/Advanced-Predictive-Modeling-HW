{
 "cells": [
  {
   "cell_type": "markdown",
   "metadata": {},
   "source": [
    "\n",
    "# <p style=\"text-align: center;\">MIS382: Advanced Predictive Modeling</p>\n",
    "# <p style=\"text-align: center;\">Assignment 2</p>\n",
    "## <p style=\"text-align: center;\">Total points: 40</p>\n",
    "## <p style=\"text-align: center;\">Due: Wed, October 4th, submitted via Canvas by 11:59 pm</p>\n",
    "\n",
    "Your homework should be written in a **Jupyter notebook**. You may work in groups of two if you wish. Only one student per team needs to submit the assignment on Canvas.  But be sure to include name and UTID for both students.  Homework groups will be created and managed through Canvas, so please do not arbitrarily change your homework group.  \n",
    "\n",
    "Also, please make sure your code runs and the graphics (and anything else) are displayed in your notebook before submitting. (%matplotlib inline)"
   ]
  },
  {
   "cell_type": "markdown",
   "metadata": {},
   "source": [
    "# Question 1 - Bias-variance Trandeoff (2pts)\n",
    "How does the choice of K in the K-nearest neighbor classifier reflect a bias-variance tradeoff?\n",
    "\n",
    "## Answer"
   ]
  },
  {
   "cell_type": "markdown",
   "metadata": {},
   "source": [
    "When K=1 K-nearest neighbors will classify a point the same as its first nearest neighbor, this has the danger of overfitting the data causing the variance of the model to be high. This means that when the model is deployed on an unseen data set, there will likley be a lot of error. In contrast when K is high all the points will be classified as the largest class in the distribution, this will cause bias in the model because there is no information gained from K-nearest neighbors, and when the model is deployed on unseen data the accuracy rate will be the baseline accruacy."
   ]
  },
  {
   "cell_type": "markdown",
   "metadata": {},
   "source": [
    "# Question 2: Data Exploration and Regression Analysis (4+3+4+4=15pts)\n",
    "\n",
    "Consider the dataset provided (russett_full_v2.csv) about agricultural inequality, industrial development and political instability in different countries. More information about it can be found [here](https://www.rdocumentation.org/packages/plspm/versions/0.4.9/topics/russett) though the data itself is slightly different than that referenced in the link.\n",
    "\n",
    "a) (4 points) Generate box-plots of the \"rent\" (% of farmers that rent all their land), \"inst\" (measure of political stability in the executive branch), \"ecks\" (number of violent internal war incidents ) and \"demo_score\" ( derived measure of the level of a country's democracy from 1945 to 61 ) and identify the cutoff values for outliers. \n",
    "\n",
    "Generate 3 scatterplots of \"rent\" against \"demo_score\", \"inst\" against \"demo_score\" and \"ecks\" against \"demo_score\" with the identified outliers colored differently than non-outliers in each; comment on how inclusion of the outliers would affect a predictive model for the \"demo_score\" response.  \n",
    "\n",
    "b) (3 points) Let us try to fit an MLR, using ordinary least squares, to this dataset with \"demo_score\" as the dependent variable using only the predictors 'rent','inst', and 'ecks' . \n",
    "\n",
    "    from sklearn.model_selection import train_test_split\n",
    "    X_train, X_test, y_train, y_test = train_test_split(X,y,test_size = 0.30, random_state=22)   \n",
    "\n",
    "Report the RMSE obtained on both X_train and X_test. How much does this increase when you score your model on X_test?\n",
    "\n",
    "c) (4 points ) Try to predict ”demo_score” using a robust regression using Huber loss.  You can use the [sklearn package](  http://scikit-learn.org/stable/modules/generated/sklearn.linear_model.HuberRegressor.html).  Set regularization parameter alpha to 0.0 and all other parameters as default.\n",
    "Report RMSE obtained on both X_train and X_test.\n",
    "\n",
    "d) (4 points ) Compare and comment on the model fits obtained in (b) and (c) and plot the residual plots using all data for each model. How do outliers affect the relative performance of ordinary least squares regression, and robust regression with Huber loss in general? \n",
    "\n",
    "## Answer"
   ]
  },
  {
   "cell_type": "markdown",
   "metadata": {},
   "source": [
    "a) (4 points) Generate box-plots of the \"rent\" (% of farmers that rent all their land), \"inst\" (measure of political stability in the executive branch), \"ecks\" (number of violent internal war incidents ) and \"demo_score\" ( derived measure of the level of a country's democracy from 1945 to 61 ) and identify the cutoff values for outliers.\n"
   ]
  },
  {
   "cell_type": "code",
   "execution_count": 1,
   "metadata": {},
   "outputs": [
    {
     "name": "stdout",
     "output_type": "stream",
     "text": [
      "Populating the interactive namespace from numpy and matplotlib\n"
     ]
    }
   ],
   "source": [
    "from pandas import Series, DataFrame\n",
    "import pandas as pd\n",
    "%pylab inline"
   ]
  },
  {
   "cell_type": "code",
   "execution_count": 2,
   "metadata": {
    "scrolled": false
   },
   "outputs": [
    {
     "ename": "IOError",
     "evalue": "File /Users/ReeceWooten/Documents/School /MSBA/Fall /Adv.Predictive/russett_full_v2.csv does not exist",
     "output_type": "error",
     "traceback": [
      "\u001b[1;31m---------------------------------------------------------------------------\u001b[0m",
      "\u001b[1;31mIOError\u001b[0m                                   Traceback (most recent call last)",
      "\u001b[1;32m<ipython-input-2-9c972e8d0120>\u001b[0m in \u001b[0;36m<module>\u001b[1;34m()\u001b[0m\n\u001b[1;32m----> 1\u001b[1;33m \u001b[0mdata\u001b[0m\u001b[1;33m=\u001b[0m\u001b[0mpd\u001b[0m\u001b[1;33m.\u001b[0m\u001b[0mread_csv\u001b[0m\u001b[1;33m(\u001b[0m\u001b[1;34m'/Users/ReeceWooten/Documents/School /MSBA/Fall /Adv.Predictive/russett_full_v2.csv'\u001b[0m\u001b[1;33m)\u001b[0m\u001b[1;33m\u001b[0m\u001b[0m\n\u001b[0m\u001b[0;32m      2\u001b[0m \u001b[0mdata\u001b[0m\u001b[1;33m[\u001b[0m\u001b[1;33m:\u001b[0m\u001b[1;36m5\u001b[0m\u001b[1;33m]\u001b[0m\u001b[1;33m\u001b[0m\u001b[0m\n",
      "\u001b[1;32mC:\\Users\\deeks\\Anaconda2\\lib\\site-packages\\pandas\\io\\parsers.pyc\u001b[0m in \u001b[0;36mparser_f\u001b[1;34m(filepath_or_buffer, sep, delimiter, header, names, index_col, usecols, squeeze, prefix, mangle_dupe_cols, dtype, engine, converters, true_values, false_values, skipinitialspace, skiprows, nrows, na_values, keep_default_na, na_filter, verbose, skip_blank_lines, parse_dates, infer_datetime_format, keep_date_col, date_parser, dayfirst, iterator, chunksize, compression, thousands, decimal, lineterminator, quotechar, quoting, escapechar, comment, encoding, dialect, tupleize_cols, error_bad_lines, warn_bad_lines, skipfooter, skip_footer, doublequote, delim_whitespace, as_recarray, compact_ints, use_unsigned, low_memory, buffer_lines, memory_map, float_precision)\u001b[0m\n\u001b[0;32m    653\u001b[0m                     skip_blank_lines=skip_blank_lines)\n\u001b[0;32m    654\u001b[0m \u001b[1;33m\u001b[0m\u001b[0m\n\u001b[1;32m--> 655\u001b[1;33m         \u001b[1;32mreturn\u001b[0m \u001b[0m_read\u001b[0m\u001b[1;33m(\u001b[0m\u001b[0mfilepath_or_buffer\u001b[0m\u001b[1;33m,\u001b[0m \u001b[0mkwds\u001b[0m\u001b[1;33m)\u001b[0m\u001b[1;33m\u001b[0m\u001b[0m\n\u001b[0m\u001b[0;32m    656\u001b[0m \u001b[1;33m\u001b[0m\u001b[0m\n\u001b[0;32m    657\u001b[0m     \u001b[0mparser_f\u001b[0m\u001b[1;33m.\u001b[0m\u001b[0m__name__\u001b[0m \u001b[1;33m=\u001b[0m \u001b[0mname\u001b[0m\u001b[1;33m\u001b[0m\u001b[0m\n",
      "\u001b[1;32mC:\\Users\\deeks\\Anaconda2\\lib\\site-packages\\pandas\\io\\parsers.pyc\u001b[0m in \u001b[0;36m_read\u001b[1;34m(filepath_or_buffer, kwds)\u001b[0m\n\u001b[0;32m    403\u001b[0m \u001b[1;33m\u001b[0m\u001b[0m\n\u001b[0;32m    404\u001b[0m     \u001b[1;31m# Create the parser.\u001b[0m\u001b[1;33m\u001b[0m\u001b[1;33m\u001b[0m\u001b[0m\n\u001b[1;32m--> 405\u001b[1;33m     \u001b[0mparser\u001b[0m \u001b[1;33m=\u001b[0m \u001b[0mTextFileReader\u001b[0m\u001b[1;33m(\u001b[0m\u001b[0mfilepath_or_buffer\u001b[0m\u001b[1;33m,\u001b[0m \u001b[1;33m**\u001b[0m\u001b[0mkwds\u001b[0m\u001b[1;33m)\u001b[0m\u001b[1;33m\u001b[0m\u001b[0m\n\u001b[0m\u001b[0;32m    406\u001b[0m \u001b[1;33m\u001b[0m\u001b[0m\n\u001b[0;32m    407\u001b[0m     \u001b[1;32mif\u001b[0m \u001b[0mchunksize\u001b[0m \u001b[1;32mor\u001b[0m \u001b[0miterator\u001b[0m\u001b[1;33m:\u001b[0m\u001b[1;33m\u001b[0m\u001b[0m\n",
      "\u001b[1;32mC:\\Users\\deeks\\Anaconda2\\lib\\site-packages\\pandas\\io\\parsers.pyc\u001b[0m in \u001b[0;36m__init__\u001b[1;34m(self, f, engine, **kwds)\u001b[0m\n\u001b[0;32m    762\u001b[0m             \u001b[0mself\u001b[0m\u001b[1;33m.\u001b[0m\u001b[0moptions\u001b[0m\u001b[1;33m[\u001b[0m\u001b[1;34m'has_index_names'\u001b[0m\u001b[1;33m]\u001b[0m \u001b[1;33m=\u001b[0m \u001b[0mkwds\u001b[0m\u001b[1;33m[\u001b[0m\u001b[1;34m'has_index_names'\u001b[0m\u001b[1;33m]\u001b[0m\u001b[1;33m\u001b[0m\u001b[0m\n\u001b[0;32m    763\u001b[0m \u001b[1;33m\u001b[0m\u001b[0m\n\u001b[1;32m--> 764\u001b[1;33m         \u001b[0mself\u001b[0m\u001b[1;33m.\u001b[0m\u001b[0m_make_engine\u001b[0m\u001b[1;33m(\u001b[0m\u001b[0mself\u001b[0m\u001b[1;33m.\u001b[0m\u001b[0mengine\u001b[0m\u001b[1;33m)\u001b[0m\u001b[1;33m\u001b[0m\u001b[0m\n\u001b[0m\u001b[0;32m    765\u001b[0m \u001b[1;33m\u001b[0m\u001b[0m\n\u001b[0;32m    766\u001b[0m     \u001b[1;32mdef\u001b[0m \u001b[0mclose\u001b[0m\u001b[1;33m(\u001b[0m\u001b[0mself\u001b[0m\u001b[1;33m)\u001b[0m\u001b[1;33m:\u001b[0m\u001b[1;33m\u001b[0m\u001b[0m\n",
      "\u001b[1;32mC:\\Users\\deeks\\Anaconda2\\lib\\site-packages\\pandas\\io\\parsers.pyc\u001b[0m in \u001b[0;36m_make_engine\u001b[1;34m(self, engine)\u001b[0m\n\u001b[0;32m    983\u001b[0m     \u001b[1;32mdef\u001b[0m \u001b[0m_make_engine\u001b[0m\u001b[1;33m(\u001b[0m\u001b[0mself\u001b[0m\u001b[1;33m,\u001b[0m \u001b[0mengine\u001b[0m\u001b[1;33m=\u001b[0m\u001b[1;34m'c'\u001b[0m\u001b[1;33m)\u001b[0m\u001b[1;33m:\u001b[0m\u001b[1;33m\u001b[0m\u001b[0m\n\u001b[0;32m    984\u001b[0m         \u001b[1;32mif\u001b[0m \u001b[0mengine\u001b[0m \u001b[1;33m==\u001b[0m \u001b[1;34m'c'\u001b[0m\u001b[1;33m:\u001b[0m\u001b[1;33m\u001b[0m\u001b[0m\n\u001b[1;32m--> 985\u001b[1;33m             \u001b[0mself\u001b[0m\u001b[1;33m.\u001b[0m\u001b[0m_engine\u001b[0m \u001b[1;33m=\u001b[0m \u001b[0mCParserWrapper\u001b[0m\u001b[1;33m(\u001b[0m\u001b[0mself\u001b[0m\u001b[1;33m.\u001b[0m\u001b[0mf\u001b[0m\u001b[1;33m,\u001b[0m \u001b[1;33m**\u001b[0m\u001b[0mself\u001b[0m\u001b[1;33m.\u001b[0m\u001b[0moptions\u001b[0m\u001b[1;33m)\u001b[0m\u001b[1;33m\u001b[0m\u001b[0m\n\u001b[0m\u001b[0;32m    986\u001b[0m         \u001b[1;32melse\u001b[0m\u001b[1;33m:\u001b[0m\u001b[1;33m\u001b[0m\u001b[0m\n\u001b[0;32m    987\u001b[0m             \u001b[1;32mif\u001b[0m \u001b[0mengine\u001b[0m \u001b[1;33m==\u001b[0m \u001b[1;34m'python'\u001b[0m\u001b[1;33m:\u001b[0m\u001b[1;33m\u001b[0m\u001b[0m\n",
      "\u001b[1;32mC:\\Users\\deeks\\Anaconda2\\lib\\site-packages\\pandas\\io\\parsers.pyc\u001b[0m in \u001b[0;36m__init__\u001b[1;34m(self, src, **kwds)\u001b[0m\n\u001b[0;32m   1603\u001b[0m         \u001b[0mkwds\u001b[0m\u001b[1;33m[\u001b[0m\u001b[1;34m'allow_leading_cols'\u001b[0m\u001b[1;33m]\u001b[0m \u001b[1;33m=\u001b[0m \u001b[0mself\u001b[0m\u001b[1;33m.\u001b[0m\u001b[0mindex_col\u001b[0m \u001b[1;32mis\u001b[0m \u001b[1;32mnot\u001b[0m \u001b[0mFalse\u001b[0m\u001b[1;33m\u001b[0m\u001b[0m\n\u001b[0;32m   1604\u001b[0m \u001b[1;33m\u001b[0m\u001b[0m\n\u001b[1;32m-> 1605\u001b[1;33m         \u001b[0mself\u001b[0m\u001b[1;33m.\u001b[0m\u001b[0m_reader\u001b[0m \u001b[1;33m=\u001b[0m \u001b[0mparsers\u001b[0m\u001b[1;33m.\u001b[0m\u001b[0mTextReader\u001b[0m\u001b[1;33m(\u001b[0m\u001b[0msrc\u001b[0m\u001b[1;33m,\u001b[0m \u001b[1;33m**\u001b[0m\u001b[0mkwds\u001b[0m\u001b[1;33m)\u001b[0m\u001b[1;33m\u001b[0m\u001b[0m\n\u001b[0m\u001b[0;32m   1606\u001b[0m \u001b[1;33m\u001b[0m\u001b[0m\n\u001b[0;32m   1607\u001b[0m         \u001b[1;31m# XXX\u001b[0m\u001b[1;33m\u001b[0m\u001b[1;33m\u001b[0m\u001b[0m\n",
      "\u001b[1;32mpandas\\_libs\\parsers.pyx\u001b[0m in \u001b[0;36mpandas._libs.parsers.TextReader.__cinit__ (pandas\\_libs\\parsers.c:4209)\u001b[1;34m()\u001b[0m\n",
      "\u001b[1;32mpandas\\_libs\\parsers.pyx\u001b[0m in \u001b[0;36mpandas._libs.parsers.TextReader._setup_parser_source (pandas\\_libs\\parsers.c:8873)\u001b[1;34m()\u001b[0m\n",
      "\u001b[1;31mIOError\u001b[0m: File /Users/ReeceWooten/Documents/School /MSBA/Fall /Adv.Predictive/russett_full_v2.csv does not exist"
     ]
    }
   ],
   "source": [
    "data=pd.read_csv('/Users/ReeceWooten/Documents/School /MSBA/Fall /Adv.Predictive/russett_full_v2.csv')\n",
    "data[:5]"
   ]
  },
  {
   "cell_type": "code",
<<<<<<< HEAD
   "execution_count": null,
=======
   "execution_count": 96,
>>>>>>> 032a479571b7b91886ad8afbc245e4c67d3c920b
   "metadata": {
    "collapsed": true,
    "scrolled": true
   },
   "outputs": [],
   "source": [
    "index_change=data[['country','rent','inst','ecks','demo_score']]\n",
    "index_change=index_change.set_index('country')"
   ]
  },
  {
   "cell_type": "code",
   "execution_count": null,
   "metadata": {
    "scrolled": true
   },
   "outputs": [],
   "source": [
    "index_change['rent'].plot(kind='bar')"
   ]
  },
  {
   "cell_type": "code",
<<<<<<< HEAD
   "execution_count": null,
   "metadata": {},
   "outputs": [],
=======
   "execution_count": 196,
   "metadata": {},
   "outputs": [
    {
     "data": {
      "image/png": "iVBORw0KGgoAAAANSUhEUgAAAXoAAAD8CAYAAAB5Pm/hAAAABHNCSVQICAgIfAhkiAAAAAlwSFlz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\nrkJggg==\n",
      "text/plain": [
       "<matplotlib.figure.Figure at 0x115030750>"
      ]
     },
     "metadata": {},
     "output_type": "display_data"
    }
   ],
   "source": [
    "_,bp=pd.DataFrame.boxplot(index_change,'rent',return_type='both')\n",
    "whiskers = [whiskers.get_ydata() for whiskers in bp[\"whiskers\"]]"
   ]
  },
  {
   "cell_type": "code",
   "execution_count": 197,
   "metadata": {},
   "outputs": [
    {
     "data": {
      "text/plain": [
       "[array([ 19.65,   2.5 ]), array([ 38.8,  58.7])]"
      ]
     },
     "execution_count": 197,
     "metadata": {},
     "output_type": "execute_result"
    }
   ],
>>>>>>> 032a479571b7b91886ad8afbc245e4c67d3c920b
   "source": [
    "whiskers"
   ]
  },
  {
   "cell_type": "code",
   "execution_count": null,
   "metadata": {
    "scrolled": true
   },
   "outputs": [],
   "source": [
    "index_change['inst'].plot(kind='bar')"
   ]
  },
  {
   "cell_type": "code",
<<<<<<< HEAD
   "execution_count": null,
   "metadata": {},
   "outputs": [],
=======
   "execution_count": 194,
   "metadata": {},
   "outputs": [
    {
     "data": {
      "image/png": "iVBORw0KGgoAAAANSUhEUgAAAXQAAAD8CAYAAABn919SAAAABHNCSVQICAgIfAhkiAAAAAlwSFlz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\nBPEf6pNYTtWGMt4AAAAASUVORK5CYII=\n",
      "text/plain": [
       "<matplotlib.figure.Figure at 0x113864f10>"
      ]
     },
     "metadata": {},
     "output_type": "display_data"
    }
   ],
   "source": [
    "_,bp=pd.DataFrame.boxplot(index_change,'inst',return_type='both')\n",
    "whiskers = [whiskers.get_ydata() for whiskers in bp[\"whiskers\"]]"
   ]
  },
  {
   "cell_type": "code",
   "execution_count": 195,
   "metadata": {},
   "outputs": [
    {
     "data": {
      "text/plain": [
       "[array([ 16.55,  13.  ]), array([ 19.3,  22.6])]"
      ]
     },
     "execution_count": 195,
     "metadata": {},
     "output_type": "execute_result"
    }
   ],
>>>>>>> 032a479571b7b91886ad8afbc245e4c67d3c920b
   "source": [
    "whiskers"
   ]
  },
  {
   "cell_type": "code",
   "execution_count": null,
   "metadata": {
    "scrolled": true
   },
   "outputs": [],
   "source": [
    "index_change['ecks'].plot(kind='bar')"
   ]
  },
  {
   "cell_type": "code",
<<<<<<< HEAD
   "execution_count": null,
   "metadata": {},
   "outputs": [],
=======
   "execution_count": 189,
   "metadata": {},
   "outputs": [
    {
     "data": {
      "image/png": "iVBORw0KGgoAAAANSUhEUgAAAXoAAAD8CAYAAAB5Pm/hAAAABHNCSVQICAgIfAhkiAAAAAlwSFlz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\n",
      "text/plain": [
       "<matplotlib.figure.Figure at 0x114028290>"
      ]
     },
     "metadata": {},
     "output_type": "display_data"
    }
   ],
   "source": [
    "_,bp=pd.DataFrame.boxplot(index_change,'ecks',return_type='both')\n",
    "whiskers = [whiskers.get_ydata() for whiskers in bp[\"whiskers\"]]"
   ]
  },
  {
   "cell_type": "code",
   "execution_count": 191,
   "metadata": {},
   "outputs": [
    {
     "data": {
      "text/plain": [
       "[array([ 4.,  0.]), array([ 23.,  47.])]"
      ]
     },
     "execution_count": 191,
     "metadata": {},
     "output_type": "execute_result"
    }
   ],
>>>>>>> 032a479571b7b91886ad8afbc245e4c67d3c920b
   "source": [
    "whiskers"
   ]
  },
  {
   "cell_type": "code",
   "execution_count": null,
   "metadata": {},
   "outputs": [],
   "source": [
    "index_change['demo_score'].plot(kind='bar')"
   ]
  },
  {
   "cell_type": "code",
<<<<<<< HEAD
   "execution_count": null,
=======
   "execution_count": 192,
>>>>>>> 032a479571b7b91886ad8afbc245e4c67d3c920b
   "metadata": {
    "scrolled": false
   },
<<<<<<< HEAD
   "outputs": [],
=======
   "outputs": [
    {
     "data": {
      "image/png": "iVBORw0KGgoAAAANSUhEUgAAAXoAAAD9CAYAAACyYrxEAAAABHNCSVQICAgIfAhkiAAAAAlwSFlz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\n",
      "text/plain": [
       "<matplotlib.figure.Figure at 0x114b9cdd0>"
      ]
     },
     "metadata": {},
     "output_type": "display_data"
    }
   ],
   "source": [
    "_,bp=pd.DataFrame.boxplot(index_change,'demo_score',return_type='both')\n",
    "whiskers = [whiskers.get_ydata() for whiskers in bp[\"whiskers\"]]"
   ]
  },
  {
   "cell_type": "code",
   "execution_count": 193,
   "metadata": {},
   "outputs": [
    {
     "data": {
      "text/plain": [
       "[array([ 22.5,   0. ]), array([ 75.,  98.])]"
      ]
     },
     "execution_count": 193,
     "metadata": {},
     "output_type": "execute_result"
    }
   ],
   "source": [
    "whiskers"
   ]
  },
  {
   "cell_type": "markdown",
   "metadata": {},
   "source": [
    "Generate 3 scatterplots of \"rent\" against \"demo_score\", \"inst\" against \"demo_score\" and \"ecks\" against \"demo_score\" with the identified outliers colored differently than non-outliers in each; comment on how inclusion of the outliers would affect a predictive model for the \"demo_score\" response.\n"
   ]
  },
  {
   "cell_type": "code",
   "execution_count": 218,
   "metadata": {},
   "outputs": [
    {
     "data": {
      "text/plain": [
       "<matplotlib.axes._subplots.AxesSubplot at 0x114fca950>"
      ]
     },
     "execution_count": 218,
     "metadata": {},
     "output_type": "execute_result"
    },
    {
     "data": {
      "image/png": "iVBORw0KGgoAAAANSUhEUgAAAYkAAAEKCAYAAADn+anLAAAABHNCSVQICAgIfAhkiAAAAAlwSFlz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\nkRQkREQk0v8HgdFFABlqlZUAAAAASUVORK5CYII=\n",
      "text/plain": [
       "<matplotlib.figure.Figure at 0x114ee4290>"
      ]
     },
     "metadata": {},
     "output_type": "display_data"
    }
   ],
   "source": [
    "outlier_inst=index_change[(index_change['inst']>22.6) | (index_change['inst']<13)]\n",
    "ecks=index_change[index_change['inst']<58.7]\n",
    "\n",
    "ax=ecks.plot(kind='scatter',x='inst',y='demo_score',color='blue')\n",
    "\n",
    "outlier_inst.plot(kind='scatter',x='inst',y='demo_score',color='red',ax=ax)"
   ]
  },
  {
   "cell_type": "code",
   "execution_count": 219,
   "metadata": {},
   "outputs": [
    {
     "data": {
      "text/plain": [
       "<matplotlib.axes._subplots.AxesSubplot at 0x115385410>"
      ]
     },
     "execution_count": 219,
     "metadata": {},
     "output_type": "execute_result"
    },
    {
     "data": {
      "image/png": "iVBORw0KGgoAAAANSUhEUgAAAYkAAAEKCAYAAADn+anLAAAABHNCSVQICAgIfAhkiAAAAAlwSFlz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\n",
      "text/plain": [
       "<matplotlib.figure.Figure at 0x114216650>"
      ]
     },
     "metadata": {},
     "output_type": "display_data"
    }
   ],
   "source": [
    "outlier_rent=index_change[index_change['rent']>58.7]\n",
    "ecks=index_change[index_change['rent']<58.7]\n",
    "\n",
    "ax=ecks.plot(kind='scatter',x='rent',y='demo_score',color='blue')\n",
    "\n",
    "outlier_rent.plot(kind='scatter',x='inst',y='demo_score',color='red',ax=ax)"
   ]
  },
  {
   "cell_type": "code",
   "execution_count": 205,
   "metadata": {},
   "outputs": [],
   "source": [
    "outlier_ecks=index_change[index_change['ecks']>47]\n",
    "ecks=index_change[index_change['ecks']<47]"
   ]
  },
  {
   "cell_type": "code",
   "execution_count": 209,
   "metadata": {},
   "outputs": [
    {
     "data": {
      "text/plain": [
       "<matplotlib.axes._subplots.AxesSubplot at 0x114c58fd0>"
      ]
     },
     "execution_count": 209,
     "metadata": {},
     "output_type": "execute_result"
    },
    {
     "data": {
      "image/png": "iVBORw0KGgoAAAANSUhEUgAAAYkAAAEKCAYAAADn+anLAAAABHNCSVQICAgIfAhkiAAAAAlwSFlz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\nNP0oYJwAAAAASUVORK5CYII=\n",
      "text/plain": [
       "<matplotlib.figure.Figure at 0x114ba2710>"
      ]
     },
     "metadata": {},
     "output_type": "display_data"
    }
   ],
>>>>>>> 032a479571b7b91886ad8afbc245e4c67d3c920b
   "source": [
    "ax=ecks.plot(kind='scatter',x='ecks',y='demo_score',color='blue')\n",
    "\n",
    "outlier_ecks.plot(kind='scatter',x='ecks',y='demo_score',color='red',ax=ax)"
   ]
  },
  {
   "cell_type": "markdown",
   "metadata": {},
   "source": [
    "b) (3 points) Let us try to fit an MLR, using ordinary least squares, to this dataset with \"demo_score\" as the dependent variable using only the predictors 'rent','inst', and 'ecks' .\n",
    "from sklearn.model_selection import train_test_split\n",
    "X_train, X_test, y_train, y_test = train_test_split(X,y,test_size = 0.30, random_state=22)   \n",
    "Report the RMSE obtained on both X_train and X_test. How much does this increase when you score your model on X_test?\n"
   ]
  },
  {
   "cell_type": "code",
<<<<<<< HEAD
   "execution_count": null,
=======
   "execution_count": 29,
>>>>>>> 032a479571b7b91886ad8afbc245e4c67d3c920b
   "metadata": {
    "collapsed": true
   },
   "outputs": [],
   "source": [
    "# Special packages\n",
    "import statsmodels.api as sm\n",
    "from patsy import dmatrices\n",
    "y, X = dmatrices('demo_score ~ rent+inst+ecks', data=data, return_type='dataframe')"
   ]
  },
  {
   "cell_type": "code",
   "execution_count": null,
   "metadata": {
    "collapsed": true
   },
   "outputs": [],
   "source": [
    "from sklearn.model_selection import train_test_split\n",
    "import matplotlib.pyplot as plt\n",
    "import numpy as np\n",
    "from sklearn import datasets, linear_model\n",
    "from sklearn.metrics import mean_squared_error, r2_score\n",
    "X_train, X_test, y_train, y_test = train_test_split(X,y,test_size = 0.30, random_state=22)"
   ]
  },
  {
   "cell_type": "code",
   "execution_count": null,
   "metadata": {
    "collapsed": true
   },
   "outputs": [],
   "source": [
    "regr = linear_model.LinearRegression()\n",
    "regr.fit(X_train, y_train)\n",
    "y_pred_train_ols = regr.predict(X_train)\n"
   ]
  },
  {
   "cell_type": "code",
   "execution_count": null,
   "metadata": {},
   "outputs": [],
   "source": [
    "train_rmse=sqrt(mean_squared_error(y_train, y_pred_train_ols))\n",
    "# The mean squared error\n",
    "print(\"Root Mean squared error on X_test: %.2f\"\n",
    "      % sqrt(mean_squared_error(y_train, y_pred_train_ols)))"
   ]
  },
  {
   "cell_type": "code",
   "execution_count": null,
   "metadata": {
    "collapsed": true
   },
   "outputs": [],
   "source": [
    "y_pred_test_ols = regr.predict(X_test)\n"
   ]
  },
  {
   "cell_type": "code",
   "execution_count": null,
   "metadata": {},
   "outputs": [],
   "source": [
    "test_rmse=sqrt(mean_squared_error(y_test, y_pred_test_ols))\n",
    "# The mean squared error\n",
    "print(\"Root Mean squared error on X_test: %.2f\"\n",
    "      % sqrt(mean_squared_error(y_test, y_pred_test_ols)))"
   ]
  },
  {
   "cell_type": "code",
   "execution_count": null,
   "metadata": {},
   "outputs": [],
   "source": [
    "test_rmse-train_rmse"
   ]
  },
  {
   "cell_type": "markdown",
   "metadata": {},
   "source": [
    "c) (4 points ) Try to predict ”demo_score” using a robust regression using Huber loss. You can use the sklearn package. Set regularization parameter alpha to 0.0 and all other parameters as default. Report RMSE obtained on both X_train and X_test.\n"
   ]
  },
  {
   "cell_type": "code",
   "execution_count": null,
   "metadata": {
    "collapsed": true
   },
   "outputs": [],
   "source": [
    "from sklearn.linear_model import HuberRegressor"
   ]
  },
  {
   "cell_type": "code",
   "execution_count": null,
   "metadata": {
    "collapsed": true
   },
   "outputs": [],
   "source": [
    "y_train_array=array(y_train)"
   ]
  },
  {
   "cell_type": "code",
   "execution_count": null,
   "metadata": {
    "collapsed": true
   },
   "outputs": [],
   "source": [
    "huber=HuberRegressor(alpha=0.0)"
   ]
  },
  {
   "cell_type": "code",
   "execution_count": null,
   "metadata": {},
   "outputs": [],
   "source": [
    "huber.fit(X=X_train,y=y_train_array)"
   ]
  },
  {
   "cell_type": "code",
   "execution_count": null,
   "metadata": {
    "collapsed": true
   },
   "outputs": [],
   "source": [
    "y_pred_test_huber = huber.predict(X_test)\n"
   ]
  },
  {
   "cell_type": "code",
   "execution_count": null,
   "metadata": {},
   "outputs": [],
   "source": [
    "test_rmse=sqrt(mean_squared_error(y_test, y_pred_test_huber))\n",
    "# The mean squared error\n",
    "print(\"Root Mean squared error on X_test: %.2f\"\n",
    "      % sqrt(mean_squared_error(y_test, y_pred_test_huber)))"
   ]
  },
  {
   "cell_type": "code",
   "execution_count": null,
   "metadata": {
    "collapsed": true
   },
   "outputs": [],
   "source": [
    "y_pred_train_huber = huber.predict(X_train)"
   ]
  },
  {
   "cell_type": "code",
   "execution_count": null,
   "metadata": {},
   "outputs": [],
   "source": [
    "train_rmse=sqrt(mean_squared_error(y_train, y_pred_train_huber))\n",
    "# The mean squared error\n",
    "print(\"Root Mean squared error on X_train: %.2f\"\n",
    "      % sqrt(mean_squared_error(y_train, y_pred_train_huber)))"
   ]
  },
  {
   "cell_type": "markdown",
   "metadata": {},
   "source": [
    "d) (4 points ) Compare and comment on the model fits obtained in (b) and (c) and plot the residual plots using all data for each model. How do outliers affect the relative performance of ordinary least squares regression, and robust regression with Huber loss in general?"
   ]
  },
  {
   "cell_type": "code",
   "execution_count": 220,
   "metadata": {
    "collapsed": true
   },
   "outputs": [],
   "source": [
    "regr = linear_model.LinearRegression()\n",
    "regr.fit(X, y)\n",
    "y_pred_ols = regr.predict(X)"
   ]
  },
  {
   "cell_type": "code",
   "execution_count": 221,
   "metadata": {
    "collapsed": true
   },
   "outputs": [],
   "source": [
    "y_array=array(y)"
   ]
  },
  {
   "cell_type": "code",
<<<<<<< HEAD
   "execution_count": 87,
   "metadata": {
    "collapsed": true
   },
=======
   "execution_count": 222,
   "metadata": {},
>>>>>>> 032a479571b7b91886ad8afbc245e4c67d3c920b
   "outputs": [],
   "source": [
    "import itertools\n",
    "y_=itertools.chain.from_iterable(y_array)\n",
    "y_array=array(list(y_))\n",
    "\n",
    "import itertools\n",
    "y_p=itertools.chain.from_iterable(y_pred_ols)\n",
    "y_pred_array=array(list(y_p))"
   ]
  },
  {
   "cell_type": "code",
   "execution_count": 223,
   "metadata": {
    "collapsed": true,
    "scrolled": true
   },
   "outputs": [],
   "source": [
    "residual_ols=y_array-y_pred_array"
   ]
  },
  {
   "cell_type": "code",
   "execution_count": 224,
   "metadata": {
    "scrolled": false
   },
   "outputs": [
    {
     "data": {
      "text/plain": [
       "<matplotlib.text.Text at 0x114bb2a50>"
      ]
     },
     "execution_count": 224,
     "metadata": {},
     "output_type": "execute_result"
    },
    {
     "data": {
      "image/png": "iVBORw0KGgoAAAANSUhEUgAAAX0AAAEICAYAAACzliQjAAAABHNCSVQICAgIfAhkiAAAAAlwSFlz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\nnPTNzCrESd/MrEKc9M3MKsRJ38ysQv4/pcBbQituNKUAAAAASUVORK5CYII=\n",
      "text/plain": [
       "<matplotlib.figure.Figure at 0x114e15690>"
      ]
     },
     "metadata": {},
     "output_type": "display_data"
    }
   ],
   "source": [
    "scatter(y=residual_ols,x=y_pred_array)\n",
    "title('y vs OLS residuals')"
   ]
  },
  {
   "cell_type": "code",
   "execution_count": 121,
   "metadata": {
    "collapsed": true
   },
   "outputs": [],
   "source": [
    "y_array=array(y)"
   ]
  },
  {
   "cell_type": "code",
<<<<<<< HEAD
   "execution_count": 78,
=======
   "execution_count": 122,
>>>>>>> 032a479571b7b91886ad8afbc245e4c67d3c920b
   "metadata": {
    "collapsed": true
   },
   "outputs": [],
   "source": [
    "import itertools\n",
    "train=itertools.chain.from_iterable(y_array)\n",
    "y_array=array(list(train))"
   ]
  },
  {
   "cell_type": "code",
   "execution_count": 124,
   "metadata": {
    "collapsed": true
   },
   "outputs": [],
   "source": [
    "huber=HuberRegressor(alpha=0.0)"
   ]
  },
  {
   "cell_type": "code",
   "execution_count": 125,
   "metadata": {},
   "outputs": [
    {
     "data": {
      "text/plain": [
       "HuberRegressor(alpha=0.0, epsilon=1.35, fit_intercept=True, max_iter=100,\n",
       "        tol=1e-05, warm_start=False)"
      ]
     },
     "execution_count": 125,
     "metadata": {},
     "output_type": "execute_result"
    }
   ],
   "source": [
    "huber.fit(X=X,y=y)"
   ]
  },
  {
   "cell_type": "code",
   "execution_count": 129,
   "metadata": {
    "collapsed": true
   },
   "outputs": [],
   "source": [
    "y_pred_huber = huber.predict(X)\n"
   ]
  },
  {
   "cell_type": "code",
   "execution_count": 130,
   "metadata": {
    "collapsed": true
   },
   "outputs": [],
   "source": [
    "residual_test=y_array-y_pred_huber"
   ]
  },
  {
   "cell_type": "code",
   "execution_count": 225,
   "metadata": {
    "scrolled": true
   },
   "outputs": [
    {
     "data": {
      "text/plain": [
       "<matplotlib.text.Text at 0x114d69850>"
      ]
     },
     "execution_count": 225,
     "metadata": {},
     "output_type": "execute_result"
    },
    {
     "data": {
      "image/png": "iVBORw0KGgoAAAANSUhEUgAAAX0AAAEICAYAAACzliQjAAAABHNCSVQICAgIfAhkiAAAAAlwSFlz\nAAALEgAACxIB0t1+/AAAHQFJREFUeJzt3X20XXV95/H3Z0KAy4OGlBiSG2IyNYQB1Ma5Isq0RYIN\nIppUZ2gccYJlJpVhijo0mJRZ1XY1S7rS5YjL2jZVaFp5ipAJWdoaQlBbHQFvCIo8pKQ85hLgWoww\nmEISvvPH2RdObs6595yz9777nL0/r7Wy7jm/vc/ev31P7vf8zvf3sBURmJlZNfyboitgZmYTx0Hf\nzKxCHPTNzCrEQd/MrEIc9M3MKsRB38ysQhz0rTIkPSbpnKLrMR5Jvyppxxjb/1rSH2dwnjmSQtJh\naY9lvcNB33qCpM9K+lqD8pD0piLqlJeI+MeImF90PaycHPTN2tRKy9itZ+tWDvrWNkkrJN0yquyL\nkq5usO+nJd08quxqSV9MHl8k6RFJL0h6VNJHUtTroLSHpLMk7Rq129slPSDpZ5KulXRk3f7nS7pX\n0h5J/1fSW+q2PZZcy4+BFxsF9eRbx6WSHgYeTspOlrRF0nOSdki6oG7/85K6vCBpSNLvNaq3pAWS\n7kn2uwmor/NFkr7XoB5vSh6/T9J2Sc9LelLSZ8f4/WX2Xlj3ctC3TnwNOFfSFHi1VbsU+JsG+94I\nnCfp2GTfScAFwPWSjga+CLw3Io4F3gXcm3PdPwIsAn4ZOAn4X0m9FgDXAL8D/BLwl8AmSUfUvfbD\nwPuAKRGxv8nxlwDvAE5Jrm8LcD3wBmq/oy9LOiXZ96vA7yTXfhpwx+iDSToc2Aj8LTAV+DrwoTau\n90XgvwBTkrpfImlJg/MU8V5YARz0rW0RsRv4B+A/JUXnAj+NiG0N9n0cuAf4zaTobOAXEXFn8vwV\n4DRJfRGxOyLuH+PUFySt8Ff/dVD9L0XEkxHxHLCaWiAHWA78ZUTcFREHImId8BJwRt1rv5i8du8Y\nx/9cRDyX7HM+8FhEXBsR+yNiO3ALr/3e9lH7cHhdRPwsIu5pcLwzgMnAFyJiX0TcDPyw1YuNiO9E\nxH0R8UpE/Bi4Afj1Jru3815Yj3LQt06tAy5MHl9IrSXazPW8Flz/c/KciHgR+C3g48BuSd+UdPIY\nx1kfEVPq/3VQ7yfrHj8OzEwevxG4fNQHyol120e/tpXjvxF4x6hjfgQ4Idn+IeA84HFJ35X0zgbH\nmwkMxcErIz7eQj0AkPQOSd+WNCzp59R+18eP3q+D98J6lIO+dWoj8BZJp1Fr0V43xr5fB86SNIta\ni//6kQ0RsTki3gPMAB4C/ipFnV4Ejqp7fkKDfU6sezwbeCp5/CSwetSHylERcUPd/q0sSVu/z5PA\nd0cd85iIuAQgIn4YEYuppX42AusbHG830C9Jo+o94qBrljT6mq8HNgEnRsTrgb8ARAMZvxfWpRz0\nrSMR8a/AzdSCyt0R8cQY+w4D3wGuBR6NiAcBJE2XtDjJJ78E/D9qKYZO3Uut/2BqEvw+2WCfSyXN\nkjQVuBK4KSn/K+DjSctYko5OOkGPTVGfbwAnSfqopMnJv7dL+neSDpf0EUmvj4h9wPM0vvYfAPuB\ny5LXfxA4vW77j4BTJf1K0in92VGvPxZ4LiL+VdLp1L5pHSKH98K6lIO+pbEOeDNjp3ZGXA+cQ10r\nn9r/v/9JrbX9HLVc8yUp6vO31ILgY8BtvBbQR9fjNuAR4J+BPwaIiEHgvwFfAn4G7AQuSlEXIuIF\n4DeodeA+BTwN/Akw0jn8UeAxSc9TS6scMlomIl4GPpjU5TlqKZgNddv/Cfgj4HZqI4a+N+oQ/x34\nI0kvAH9A428TkP17YV1KvomKdUrSbGppgBMi4vmi62Nm43NL3zoiaaRleKMDvlnv8KxBa1uS932G\n2iiScwuujpm1wekdM7MKcXrHzKxCuiq9c/zxx8ecOXOKroaZWU/Ztm3bTyNiWiv7dlXQnzNnDoOD\ng0VXw8ysp0hqeZa20ztmZhXioG9mViEO+mZmFdJy0Jd0jaRnJf2krmxqcoOIh5Ofx9VtWyVpZ3Lj\niEVZV9zMzNrXTkv/rzl0Is5KYGtEzAO2Js9JbhKxFDg1ec2Xk5tnmJlZgVoevRMR/yBpzqjixcBZ\nyeN11FZS/HRSfmNEvAQ8KmkntZUBf5Cuuo1t3D7Ems07eGrPXmZO6WPFovksWdCfx6nMzHpa2pz+\n9OQuSlBbQXB68rifg28msSspO4Sk5ZIGJQ0ODw+3XYGN24dYteE+hvbsJYChPXtZteE+Nm4favtY\nZmZll1lHbnJnn7bXdIiItRExEBED06a1NLfgIGs272DvvgMHle3dd4A1m3e0fSwzs7JLG/SfkTQD\nIPn5bFI+xMF3KJqVlGXuqT2Nb1farNzMrMrSBv1NwLLk8TLg1rrypZKOkDQXmAfcnfJcDc2c0tdW\nuZlZlbUzZPMGah2x8yXtknQxcBXwHkkPU7sr0lUAEXE/tTv0PAB8C7g0Ig40PnI6KxbNp2/ywQOD\n+iZPYsWi+Xmczsysp7UzeufDTTYtbLL/amB1J5Vqx8goHY/eMTMbX1ctuNapJQv6HeTNzFrgZRjM\nzCrEQd/MrEIc9M3MKsRB38ysQhz0zcwqxEHfzKxCHPTNzCrEQd/MrEIc9M3MKsRB38ysQhz0zcwq\nxEHfzKxCHPTNzCrEQd/MrEIc9M3MKsRB38ysQjIJ+pI+Jel+ST+RdIOkIyVNlbRF0sPJz+OyOJeZ\nmXUuddCX1A9cBgxExGnAJGApsBLYGhHzgK3JczMzK1BW6Z3DgD5JhwFHAU8Bi4F1yfZ1wJKMzmVm\nZh1KHfQjYgj4U+AJYDfw84i4DZgeEbuT3Z4Gpjd6vaTlkgYlDQ4PD6etjpmZjSGL9M5x1Fr1c4GZ\nwNGSLqzfJyICiEavj4i1ETEQEQPTpk1LWx0zMxtDFumdc4BHI2I4IvYBG4B3Ac9ImgGQ/Hw2g3OZ\nmVkKWQT9J4AzJB0lScBC4EFgE7As2WcZcGsG5zIzsxQOS3uAiLhL0s3APcB+YDuwFjgGWC/pYuBx\n4IK05zIzs3RSB32AiPgM8JlRxS9Ra/WbmVmX8IxcM7MKcdA3M6sQB30zswpx0DczqxAHfTOzCnHQ\nNzOrEAd9M7MKcdA3M6sQB30zswpx0DczqxAHfTOzCnHQNzOrEAd9M7MKcdA3M6sQB30zswpx0Dcz\nqxAHfTOzCskk6EuaIulmSQ9JelDSOyVNlbRF0sPJz+OyOJeZmXUuq5b+1cC3IuJk4K3Uboy+Etga\nEfOArclzMzMrUOqgL+n1wK8BXwWIiJcjYg+wGFiX7LYOWJL2XGZmlk4WLf25wDBwraTtkr4i6Whg\nekTsTvZ5Gpje6MWSlksalDQ4PDycQXXMzKyZLIL+YcDbgD+PiAXAi4xK5UREANHoxRGxNiIGImJg\n2rRpGVTHzMyaOSyDY+wCdkXEXcnzm6kF/WckzYiI3ZJmAM9mcC4za9PG7UOs2byDp/bsZeaUPlYs\nms+SBf1FV8sKkrqlHxFPA09Kmp8ULQQeADYBy5KyZcCtac9lZu3ZuH2IVRvuY2jPXgIY2rOXVRvu\nY+P2oaKrZgXJoqUP8LvAdZIOBx4BPkbtA2W9pIuBx4ELMjqXmbVozeYd7N134KCyvfsOsGbzDrf2\nKyqToB8R9wIDDTYtzOL4ZtaZp/bsbavcys8zcs1KbOaUvrbKrfwc9M1KbMWi+fRNnnRQWd/kSaxY\nNL/JK6zsssrpm1kXGsnbe/SOjXDQNyu5JQv6HeTtVU7vmJlViIO+mVmFOOibmVWIg76ZWYU46JuZ\nVYiDvplZhTjom5lViIO+mVmFOOibmVWIg76ZWYU46JuZVYiDvplZhTjom5lVSGZBX9IkSdslfSN5\nPlXSFkkPJz+Py+pcZmbWmSxb+p8AHqx7vhLYGhHzgK3JczMzK1AmQV/SLOB9wFfqihcD65LH64Al\nWZzLzMw6l1VL/wvAFcArdWXTI2J38vhpYHqjF0paLmlQ0uDw8HBG1TEzs0ZS3zlL0vnAsxGxTdJZ\njfaJiJAUTbatBdYCDAwMNNzHzGwsG7cP+ZaQLcridolnAh+QdB5wJPA6SV8DnpE0IyJ2S5oBPJvB\nuczMDrJx+xCrNtzH3n0HABjas5dVG+4DcOBvIHV6JyJWRcSsiJgDLAXuiIgLgU3AsmS3ZcCtac9l\nZjbams07Xg34I/buO8CazTsKqlF3y3Oc/lXAeyQ9DJyTPDczy9RTe/a2VV51WaR3XhUR3wG+kzz+\nF2Bhlsc3Mxtt5pQ+hhoE+JlT+gqoTffzjFwz62krFs2nb/Kkg8r6Jk9ixaL5BdWou2Xa0jczm2gj\nnbUevdMaB30z63lLFvQ7yLfI6R0zswpx0DczqxAHfTOzCnFO38ysTtmXdHDQN7NSSRO0q7Ckg9M7\nZlYaI0F7aM9egteC9sbtQy29vgpLOrilb9ZFyp5ayNtYQbuV32OnSzr00vvmoG/WJaqQWshb2nV4\nOlnSodfeN6d3zLpEFVILedm4fYgzr7qDZjfkaHUdnk6WdOi1980tfbMu4dUiOzO6pT1aO+vwdLKk\nQ6+9bw76Zl3Cq0V2plFLe0R/B/n1dpd06LX3zekdsy6xYtF8Jk/SQWWTJ8mrRY6jWYtawPdXnp17\nXr3XVvl00DfrJqOT0r5r9LiatagnqqW9ZEE/n/vgm+mf0oeofbv43Aff3JWduOCgb9Y11mzewb5X\nDo7y+16Jru0Q7BZFt7TTDtcc6YSeu/KbnHnVHS3PKehU6py+pBOBvwGmU2uXrI2IqyVNBW4C5gCP\nARdExM/Sns+srHqtQ7BbFLmeftrhmkUM98yiI3c/cHlE3CPpWGCbpC3ARcDWiLhK0kpgJfDpDM5n\nVkq91iGYVpYTmpp1vuY9aSrtZLC0r+9E6vROROyOiHuSxy8ADwL9wGJgXbLbOmBJ2nOZlVnRaYqJ\n1MpyCWnTHmmXZGhF2m9nRXy7y3TIpqQ5wALgLmB6ROxONj1NLf3T6DXLgeUAs2fPzrI6Zj2lSrf9\nG6+F20naY3Sr/sWX9ufeik777ayIb3eZBX1JxwC3AJ+MiOel14aeRURIajgOISLWAmsBBgYGSjlW\noZfW5bBiVeW2f+O1cNtNezT6kGj33J1YsWj+IRPD2vl2lvb1ncgk6EuaTC3gXxcRG5LiZyTNiIjd\nkmYAz2Zxrl7Ta+tymE2E8Vq47aY9xpqg1ewcWUj77ayIb3dZjN4R8FXgwYj4fN2mTcAy4Krk561p\nz9WLiuioMet247Vw2017tNp6z6MVnfbb2UR/u8tinP6ZwEeBsyXdm/w7j1qwf4+kh4FzkueV42F4\nZocab0JTu53azT4Mjjtqcs9MmpooqVv6EfE9ajOeG1mY9vi9rmrD8MxaNVYLt920R7NvDp95/6mp\ngnwZ++O84FrOiuio6TVl/MOy9NpJe+SRGy9rf5yDfs6qNAyvE2X9w7KJl3VuvKz9cQ76E6Aqw/A6\nUdY/LOt9Ze2P84JrVqiy/mFZ7yt69c68OOhbobr5D2uiVz+07lLWZTEc9K1Q3fqHNRHrtnQTf8Ad\nqtfWyW+VIrpn5YOBgYEYHBwsuho2wbpx9M6ZV93RcKht/5Q+vr/y7AJqlJ9G95jtmzyJD/37fr79\n0HBXvS/WmKRtETHQyr7uyLXCdWNHd5X6Gpp1pl935xOv3rjLo6rKw+kdswa6ua8ha80+yEbnAEZG\nVVlvc9A3a6Bb+xry0M4HWRm/6VSNg75ZA2XtxGuk0Qdcs3VVyvhNp2qc0zdrohv7GvLQaNb4u0+e\nxi3bhrx8SAk56JtlpBtHIbWq0QfcwBun9uz1WHMO+mYZKOMaQlX4ptPLH9Sdck7fLANjrSFk3alq\nE/BGOOibZaBK4/rLoqof1LkHfUnnStohaaeklXmfz6wIVRrXn7WiloCo6gd1rkFf0iTgz4D3AqcA\nH5Z0Sp7nNCtClcb1Z6nIFEtVP6jzbumfDuyMiEci4mXgRmBxzuc0m3BVGtefpSJTLFX9oM579E4/\n8GTd813AO3I+p1khqjDaJWtFpliqele7wodsSloOLAeYPXt2wbUxy14VhwW2auaUvoarmU5UiqWK\nH9R5p3eGgBPrns9Kyl4VEWsjYiAiBqZNm5ZzdcwmVlWHBbbq3Sc3/ptvVm7p5R30fwjMkzRX0uHA\nUmBTzuc06xpVHRbYqm8/NNxWuaWXa3onIvZL+h/AZmAScE1E3J/nOc26STcPC+yGtFM3/37KKvec\nfkT8HfB3eZ/HrBsVnbNupluWjejW30+ZeUauWY66dVhgt6SduvX3U2aFj94xK7NuHRbYLWmVbv39\nlJmDvlnOunFYYN5plXb6C7rx91NmTu+YVVCeaRUPU+1uDvpmFZTnshHd0l9gjTm9Y1ZReaVVuqW/\nwBpzS9/MMlXV1St7hVv6ZhUw0rE6tGcvkyQORNCf00iZFYvmHzQHADwMs5s46JuV3OiJWAcigPwm\nZHkYZndz0DcruUYdqyNGOlizDsgehtm9HPStdLphTZluMl4HqjtYq8VB30plItaU6bUPlWYTseq3\n563Xfmdl5tE7Vip5jxHPc+JRXjcIbzQRa8REdLB6slZ3cdC3Usl7jHheHyp5Bsb6iVgAkyRg4u7j\n68la3cXpHSuVvNeUyetDZazAmEVQnsiO1dGpnGapJfclFMMtfSuVvJfqzWviUVlmsTb6xqIm+3qy\nVjEc9K1U8lxTBvL7UCnLLNZG31gCDgn8nqxVnFTpHUlrgPcDLwP/DHwsIvYk21YBFwMHgMsiYnPK\nupq1JM9URl4Tj8oyi7XZN5Og9gHs0TvFS5vT3wKsSu6F+yfAKuDTkk6hdhP0U4GZwO2SToqIxjNE\nzHpIHh8qZZnF2iyH3z+lj++vPLuAGtloqYJ+RNxW9/RO4D8mjxcDN0bES8CjknYCpwM/SHM+szLr\nhVms4423L8s3ljLLcvTObwM3JY/7qX0IjNiVlB1C0nJgOcDs2bMzrI6ZZamViW/d9o3Fk8IONW7Q\nl3Q7cEKDTVdGxK3JPlcC+4Hr2q1ARKwF1gIMDAxEu683s4nR6rDSbvnGMhGzs3vRuEE/Is4Za7uk\ni4DzgYURMRK0h4AT63ablZSZWZdr1jrutWGlec996FVpR++cC1wB/HpE/KJu0ybgekmfp9aROw+4\nO825zCx/Y7WO8574lrVe+5CaKGnH6X8JOBbYIuleSX8BEBH3A+uBB4BvAZd65I5Z9xurdbxi0Xwm\nTzp4xP3kSZqQTtpO1iUqy9yHrKUdvfOmMbatBlanOb6ZTYz6O2s18mrreHSv2wT0wnWam/dIosY8\nI9es4uqXTmhm5pQ+1mzewb5XDo7y+16J3BdO63TBtrxnZ/cqL7hmVnFj3VkLXmsdf+qmextuzztH\nniY33y0jibqJW/pmFTdW8KxvHReVI3duPlsO+mYV1yx4jiydMNJSznsF02aKOm9ZOeibVVyrQbWo\nHLlz89nSa/OpijcwMBCDg4NFV8OscrxcQW+TtC0iBlrZ1x25ZuYOzwpxesfMrEIc9M3MKsRB38ys\nQhz0zcwqxB25ZtYyj/LpfQ76ZtYS35SkHJzeMbOWNFv47PL1P2ppqWPrDm7pm1lLmq3RcyCCFV//\nEZBti9+ppHy4pW9mLRlrgbN9rwSf3XR/ZueqX+45eC2V5G8U6Tnom1lLGq3RU2/P3n2ZnavTNfRt\nfJkEfUmXSwpJx9eVrZK0U9IOSYuyOI+ZFWdk4bOJ4Pvb5id10Jd0IvAbwBN1ZacAS4FTgXOBL0tq\n3kQws56wZEE/xx01ueG2ZuWd8Br6+cmipf+/gSs4+G6Zi4EbI+KliHgU2AmcnsG5zKxgn3n/qQ1v\nkP6Z95+a2Tm8hn5+Uo3ekbQYGIqIH0kH/SfoB+6se74rKWt0jOXAcoDZs2enqY6ZTYCRETR5jqyZ\niHNU1bhBX9LtwAkNNl0J/D611E7HImItsBZq6+mnOZaZjS2rYZATsRSzl3vOx7hBPyLOaVQu6c3A\nXGCklT8LuEfS6cAQcGLd7rOSMjMriGfUGqTI6UfEfRHxhoiYExFzqKVw3hYRTwObgKWSjpA0F5gH\n3J1Jjc2sIx4GaZDTjNyIuF/SeuABYD9waUQcGOdlZpYjD4M0yDDoJ639+uergdVZHd/M0pk5pY+h\nBgHewyCrxTNyzSrCwyANvOCaWWV4GKSBg75ZpXgYpDm9Y2ZWIQ76ZmYV4qBvZlYhDvpmZhXioG9m\nViEO+mZmFeKgb2ZWIR6nb2aFyWqpZ2udg76ZFcJLPRfD6R0zK4SXei6Gg76ZFcJLPRfDQd/MCtFs\nSWcv9ZwvB30zK4SXei6GO3LNrBBe6rkYqYO+pN8FLgUOAN+MiCuS8lXAxUn5ZRGxOe25zKxcvNTz\nxEsV9CW9G1gMvDUiXpL0hqT8FGApcCowE7hd0km+T66ZWbHS5vQvAa6KiJcAIuLZpHwxcGNEvBQR\njwI7gdNTnsvMzFJKG/RPAn5V0l2Svivp7Ul5P/Bk3X67krJDSFouaVDS4PDwcMrqmJnZWMZN70i6\nHTihwaYrk9dPBc4A3g6sl/Rv26lARKwF1gIMDAxEO681M7P2jBv0I+KcZtskXQJsiIgA7pb0CnA8\nMAScWLfrrKTMzMwKpFq87vDF0seBmRHxB5JOArYCs4FTgOup5fFnJuXzxuvIlTQMPN5xhdpzPPDT\nCTpXt/A1V0cVr7vK1/zGiJjWygvSDtm8BrhG0k+Al4FlSav/fknrgQeA/cClrYzcabXSWZA0GBED\nE3W+buBrro4qXrevuTWpgn5EvAxc2GTbamB1muObmVm2vAyDmVmFVDnory26AgXwNVdHFa/b19yC\nVB25ZmbWW6rc0jczqxwHfTOzCqlU0Je0RtJDkn4s6f9ImlK3bZWknZJ2SFpUZD2zJunc5Lp2SlpZ\ndH3yIulESd+W9ICk+yV9IimfKmmLpIeTn8cVXdesSZokabukbyTPS33NkqZIujn5e35Q0jvLfs0A\nkj6V/N/+iaQbJB3Z7nVXKugDW4DTIuItwD8Bq+CQVUHPBb4saVLTo/SQ5Dr+DHgvtUlzH06ut4z2\nA5dHxCnUlga5NLnWlcDWiJhHbaJgGT/4PgE8WPe87Nd8NfCtiDgZeCu1ay/1NUvqBy4DBiLiNGAS\ntbjV1nVXKuhHxG0RsT95eie15SGg3KuCng7sjIhHknkVN1K73tKJiN0RcU/y+AVqgaCf2vWuS3Zb\nBywppob5kDQLeB/wlbri0l6zpNcDvwZ8FWrzhSJiDyW+5jqHAX2SDgOOAp6izeuuVNAf5beBv08e\nt7wqaA8q87U1JWkOsAC4C5geEbuTTU8D0wuqVl6+AFwBvFJXVuZrngsMA9cmKa2vSDqacl8zETEE\n/CnwBLAb+HlE3Eab1126oC/p9iTfNfrf4rp9rqSWCriuuJpaXiQdA9wCfDIinq/fliwTUppxypLO\nB56NiG3N9inbNVNr7b4N+POIWAC8yKiURgmvmSRXv5jah95M4GhJB62I0Mp1l+4euWOtCgog6SLg\nfGBhvDZJocyrgpb52g4haTK1gH9dRGxIip+RNCMidkuaATzb/Ag950zgA5LOA44EXifpa5T7mncB\nuyLiruT5zdSCfpmvGeAc4NGIGAaQtAF4F21ed+la+mORdC61r8EfiIhf1G3aBCyVdISkucA84O4i\n6piDHwLzJM2VdDi1jp9NBdcpF5JELc/7YER8vm7TJmBZ8ngZcOtE1y0vEbEqImZFxBxq7+0dEXEh\n5b7mp4EnJc1PihZSW9yxtNeceAI4Q9JRyf/1hdT6rdq67krNyJW0EzgC+Jek6M6I+Hiy7Upqef79\n1NICf9/4KL0naQV+gVpv/zXJYnilI+k/AP8I3Mdr+e3fp5bXX09t2e/HgQsi4rlCKpkjSWcBvxcR\n50v6JUp8zZJ+hVrH9eHAI8DHqDViS3vNAJL+EPgtanFqO/BfgWNo47orFfTNzKquUukdM7Oqc9A3\nM6sQB30zswpx0DczqxAHfTOzCnHQNzOrEAd9M7MK+f/r85cNoYHT+AAAAABJRU5ErkJggg==\n",
      "text/plain": [
       "<matplotlib.figure.Figure at 0x114285c90>"
      ]
     },
     "metadata": {},
     "output_type": "display_data"
    }
   ],
   "source": [
    "scatter(y=residual_test,x=y_pred_huber)\n",
    "title('y vs Huber residuals')"
   ]
  },
  {
   "cell_type": "markdown",
   "metadata": {},
   "source": [
    "# Question 3 - Sampling (4+4=8pts)\n",
    "\n",
    "1. NBC has come up with an extreme TV show, and each of its viewers either likes or hates it. (no middle ground here; we are in a “black and white age”). NBC wants to estimate what fraction p of its audience like the show by “randomly” calling n viewers and tallying their responses so as to estimate the true value of p to a fractional accuracy of within ±ε%, with a confidence of (1 − α) × 100%. For α = 0.10, ε = 0.03 (i.e. your answer will be $\\hat{p}$ ± 0.03), what is the minimum value of n needed if true value (i) p = 0.5, (ii) p=0.25? \n",
    "\n",
    "2. Suppose for a certain value of p and choice of ε, you calculate that you will need 1000 samples for α = 0.02. You now decide to obtain a more accurate answer by either (i) reducing α to 0.01, keeping the same ε or by (ii) reducing ε by a factor of 2 from the original value, and increasing α to 0.05. In each case how many samples would you need now?\n",
    "\n",
    "## Answer"
   ]
  },
  {
   "cell_type": "markdown",
   "metadata": {},
   "source": [
    "1. NBC has come up with an extreme TV show, and each of its viewers either likes or hates it. (no middle ground here; we are in a “black and white age”). NBC wants to estimate what fraction p of its audience like the show by “randomly” calling n viewers and tallying their responses so as to estimate the true value of p to a fractional accuracy of within ±ε%, with a confidence of (1 − α) × 100%. For α = 0.10, ε = 0.03 (i.e. your answer will be  p̂ p^  ± 0.03), what is the minimum value of n needed if true value (i) p = 0.5, (ii) p=0.25?"
   ]
  },
  {
   "cell_type": "markdown",
   "metadata": {},
   "source": [
    "i. \n",
    "n = p(1-p) (za/2/ e) 2\n",
    "\n",
    ".5(.5)(1.645/.03)^2=752"
   ]
  },
  {
   "cell_type": "markdown",
   "metadata": {},
   "source": [
    ".25(.75)(1.645/.03)^2=564"
   ]
  },
  {
   "cell_type": "markdown",
   "metadata": {},
   "source": [
    "2 Suppose for a certain value of p and choice of ε, you calculate that you will need 1000 samples for α = 0.02. You now decide to obtain a more accurate answer by either (i) reducing α to 0.01, keeping the same ε or by (ii) reducing ε by a factor of 2 from the original value, and increasing α to 0.05. In each case how many samples would you need now?"
   ]
  },
  {
   "cell_type": "markdown",
   "metadata": {},
   "source": [
    ".5(.5)(3.3/.03)^2= 3025"
   ]
  },
  {
   "cell_type": "markdown",
   "metadata": {},
   "source": [
    ".5(.5)(1.96/.015)^2= 4268.44"
   ]
  },
  {
   "cell_type": "markdown",
   "metadata": {},
   "source": [
    "# Question 4 - Principal Component Analysis (10 points)\n",
    "\n",
    "Import the diabetes dataset as in Q1 and add the interaction variables.\n",
    "You should have 65 variables and one target variable."
   ]
  },
  {
   "cell_type": "code",
   "execution_count": 345,
   "metadata": {
    "collapsed": true
   },
   "outputs": [],
   "source": [
    "from sklearn import datasets\n",
    "diabetes = datasets.load_diabetes()\n",
    "X = diabetes.data\n",
    "y = diabetes.target\n",
    "\n",
    "from sklearn.preprocessing import PolynomialFeatures\n",
    "X = PolynomialFeatures(2, include_bias=False).fit_transform(X)"
   ]
  },
  {
   "cell_type": "markdown",
   "metadata": {},
   "source": [
    "Next, use [StandardScaler](http://scikit-learn.org/stable/modules/generated/sklearn.preprocessing.StandardScaler.html) to center and scale each feature as follows."
   ]
  },
  {
   "cell_type": "code",
   "execution_count": 346,
   "metadata": {
    "collapsed": true
   },
   "outputs": [],
   "source": [
    "from sklearn.preprocessing import StandardScaler\n",
    "stdScaler = StandardScaler()\n",
    "X = stdScaler.fit_transform(X)"
   ]
  },
  {
   "cell_type": "code",
   "execution_count": 347,
   "metadata": {},
   "outputs": [
    {
     "data": {
      "text/plain": [
       "array([[ 0.80050009,  1.06548848,  1.29708846, ..., -0.60582632,\n",
       "        -0.58432873, -0.5786918 ],\n",
       "       [-0.03956713, -0.93853666, -1.08218016, ...,  0.78127042,\n",
       "         2.18675392,  1.85055575],\n",
       "       [ 1.79330681,  1.06548848,  0.93453324, ..., -0.73183676,\n",
       "        -0.46890921, -0.47161867],\n",
       "       ..., \n",
       "       [ 0.87686984,  1.06548848, -0.33441002, ..., -0.02102345,\n",
       "        -0.7405101 , -0.59987616],\n",
       "       [-0.9560041 , -0.93853666,  0.82123474, ..., -0.09079363,\n",
       "        -0.91899961, -0.47161867],\n",
       "       [-0.9560041 , -0.93853666, -1.53537419, ..., -0.72871818,\n",
       "        -0.44336002, -0.6682648 ]])"
      ]
     },
     "execution_count": 347,
     "metadata": {},
     "output_type": "execute_result"
    }
   ],
   "source": [
    "X"
   ]
  },
  {
   "cell_type": "markdown",
   "metadata": {},
   "source": [
    "(a) Perform PCA using the sklearn [PCA](http://scikit-learn.org/stable/modules/generated/sklearn.decomposition.PCA.html) package.  Create i) a scree plot depicting the proportion of variance and ii) a cumulative proportion of variance explained by the principal components of the data (X matrix).  Refer to Figure 10.4 of JW for an example.  You may use the output attribute *explained variance ratio*. (3pts)\n",
    "\n",
    "(b) How many principal components (N1, N2, N3) are required to explain cumulative variance of 30%, 60%, and 90%, respectively? (3pts)\n",
    "\n",
    "(c) Fit an ordinary least squares linear regression using N1, N2, and N3 number of principal components, respectively. (This is called Principal Components Regression) Use entire dataset, e.g. 442 rows. Evaluate the models using mean squared error (MSE). (4pts)\n",
    "\n",
    "## Answer"
   ]
  },
  {
   "cell_type": "markdown",
   "metadata": {},
   "source": [
    "(a) Perform PCA using the sklearn PCA package. Create i) a scree plot depicting the proportion of variance and ii) a cumulative proportion of variance explained by the principal components of the data (X matrix). Refer to Figure 10.4 of JW for an example. You may use the output attribute explained variance ratio. (3pts)"
   ]
  },
  {
   "cell_type": "code",
   "execution_count": 231,
   "metadata": {
    "collapsed": true
   },
   "outputs": [],
   "source": [
    "import numpy as np\n",
    "from sklearn.decomposition import PCA"
   ]
  },
  {
   "cell_type": "code",
   "execution_count": 233,
   "metadata": {
    "collapsed": true
   },
   "outputs": [],
   "source": [
    "pca=PCA(n_components=65)"
   ]
  },
  {
   "cell_type": "code",
   "execution_count": 244,
   "metadata": {
    "collapsed": true
   },
   "outputs": [],
   "source": [
    "n_components=array(range(1,66))"
   ]
  },
  {
   "cell_type": "code",
   "execution_count": 243,
   "metadata": {
    "collapsed": true
   },
   "outputs": [],
   "source": [
    "fit=pca.fit(X)\n",
    "variance=fit.explained_variance_ratio_"
   ]
  },
  {
   "cell_type": "code",
   "execution_count": 246,
   "metadata": {},
   "outputs": [
    {
     "data": {
      "image/png": "iVBORw0KGgoAAAANSUhEUgAAAYQAAAD8CAYAAAB3u9PLAAAABHNCSVQICAgIfAhkiAAAAAlwSFlz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\nIoACQUREAgoEEREB4P8DzH/z7ow5E9IAAAAASUVORK5CYII=\n",
      "text/plain": [
       "<matplotlib.figure.Figure at 0x11cc93c90>"
      ]
     },
     "metadata": {},
     "output_type": "display_data"
    }
   ],
   "source": [
    "fig, ax = plt.subplots()\n",
    "line1, = ax.plot(n_components, variance, linewidth=2,\n",
    "                 label='Dashes set retroactively')"
   ]
  },
  {
   "cell_type": "code",
   "execution_count": 250,
   "metadata": {
    "collapsed": true
   },
   "outputs": [],
   "source": [
    "def running_sum(a):\n",
    "  tot = 0\n",
    "  for item in a:\n",
    "    tot += item\n",
    "    yield tot"
   ]
  },
  {
   "cell_type": "code",
   "execution_count": 261,
   "metadata": {
    "collapsed": true
   },
   "outputs": [],
   "source": [
    "tot=list(running_sum(variance))"
   ]
  },
  {
   "cell_type": "code",
   "execution_count": 265,
   "metadata": {},
   "outputs": [
    {
     "data": {
      "image/png": "iVBORw0KGgoAAAANSUhEUgAAAXcAAAD8CAYAAACMwORRAAAABHNCSVQICAgIfAhkiAAAAAlwSFlz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\n",
      "text/plain": [
       "<matplotlib.figure.Figure at 0x11cd91510>"
      ]
     },
     "metadata": {},
     "output_type": "display_data"
    }
   ],
   "source": [
    "fig, ax = plt.subplots()\n",
    "line1, = ax.plot(n_components, tot, linewidth=2,\n",
    "                 label='Dashes set retroactively')"
   ]
  },
  {
   "cell_type": "markdown",
   "metadata": {},
   "source": [
    "(b) How many principal components (N1, N2, N3) are required to explain cumulative variance of 30%, 60%, and 90%, respectively? (3pts)\n"
   ]
  },
  {
   "cell_type": "code",
   "execution_count": 271,
   "metadata": {
    "collapsed": true,
    "scrolled": true
   },
   "outputs": [],
   "source": [
    "comp_tot=DataFrame(tot,n_components)"
   ]
  },
  {
   "cell_type": "code",
   "execution_count": 299,
   "metadata": {
    "scrolled": true
   },
   "outputs": [
    {
     "data": {
      "text/html": [
       "<div>\n",
       "<style>\n",
       "    .dataframe thead tr:only-child th {\n",
       "        text-align: right;\n",
       "    }\n",
       "\n",
       "    .dataframe thead th {\n",
       "        text-align: left;\n",
       "    }\n",
       "\n",
       "    .dataframe tbody tr th {\n",
       "        vertical-align: top;\n",
       "    }\n",
       "</style>\n",
       "<table border=\"1\" class=\"dataframe\">\n",
       "  <thead>\n",
       "    <tr style=\"text-align: right;\">\n",
       "      <th></th>\n",
       "      <th>tot</th>\n",
       "    </tr>\n",
       "  </thead>\n",
       "  <tbody>\n",
       "    <tr>\n",
       "      <th>1</th>\n",
       "      <td>0.165760</td>\n",
       "    </tr>\n",
       "    <tr>\n",
       "      <th>2</th>\n",
       "      <td>0.256865</td>\n",
       "    </tr>\n",
       "    <tr>\n",
       "      <th>3</th>\n",
       "      <td>0.336175</td>\n",
       "    </tr>\n",
       "    <tr>\n",
       "      <th>4</th>\n",
       "      <td>0.400882</td>\n",
       "    </tr>\n",
       "    <tr>\n",
       "      <th>5</th>\n",
       "      <td>0.452496</td>\n",
       "    </tr>\n",
       "    <tr>\n",
       "      <th>6</th>\n",
       "      <td>0.497157</td>\n",
       "    </tr>\n",
       "    <tr>\n",
       "      <th>7</th>\n",
       "      <td>0.536240</td>\n",
       "    </tr>\n",
       "    <tr>\n",
       "      <th>8</th>\n",
       "      <td>0.574404</td>\n",
       "    </tr>\n",
       "    <tr>\n",
       "      <th>9</th>\n",
       "      <td>0.607856</td>\n",
       "    </tr>\n",
       "    <tr>\n",
       "      <th>10</th>\n",
       "      <td>0.638018</td>\n",
       "    </tr>\n",
       "    <tr>\n",
       "      <th>11</th>\n",
       "      <td>0.666707</td>\n",
       "    </tr>\n",
       "    <tr>\n",
       "      <th>12</th>\n",
       "      <td>0.693448</td>\n",
       "    </tr>\n",
       "    <tr>\n",
       "      <th>13</th>\n",
       "      <td>0.714894</td>\n",
       "    </tr>\n",
       "    <tr>\n",
       "      <th>14</th>\n",
       "      <td>0.734720</td>\n",
       "    </tr>\n",
       "    <tr>\n",
       "      <th>15</th>\n",
       "      <td>0.753322</td>\n",
       "    </tr>\n",
       "    <tr>\n",
       "      <th>16</th>\n",
       "      <td>0.770724</td>\n",
       "    </tr>\n",
       "    <tr>\n",
       "      <th>17</th>\n",
       "      <td>0.787213</td>\n",
       "    </tr>\n",
       "    <tr>\n",
       "      <th>18</th>\n",
       "      <td>0.801855</td>\n",
       "    </tr>\n",
       "    <tr>\n",
       "      <th>19</th>\n",
       "      <td>0.815799</td>\n",
       "    </tr>\n",
       "    <tr>\n",
       "      <th>20</th>\n",
       "      <td>0.828915</td>\n",
       "    </tr>\n",
       "    <tr>\n",
       "      <th>21</th>\n",
       "      <td>0.841689</td>\n",
       "    </tr>\n",
       "    <tr>\n",
       "      <th>22</th>\n",
       "      <td>0.853623</td>\n",
       "    </tr>\n",
       "    <tr>\n",
       "      <th>23</th>\n",
       "      <td>0.864340</td>\n",
       "    </tr>\n",
       "    <tr>\n",
       "      <th>24</th>\n",
       "      <td>0.874324</td>\n",
       "    </tr>\n",
       "    <tr>\n",
       "      <th>25</th>\n",
       "      <td>0.884000</td>\n",
       "    </tr>\n",
       "    <tr>\n",
       "      <th>26</th>\n",
       "      <td>0.893249</td>\n",
       "    </tr>\n",
       "    <tr>\n",
       "      <th>27</th>\n",
       "      <td>0.902403</td>\n",
       "    </tr>\n",
       "    <tr>\n",
       "      <th>28</th>\n",
       "      <td>0.910583</td>\n",
       "    </tr>\n",
       "    <tr>\n",
       "      <th>29</th>\n",
       "      <td>0.918641</td>\n",
       "    </tr>\n",
       "    <tr>\n",
       "      <th>30</th>\n",
       "      <td>0.926364</td>\n",
       "    </tr>\n",
       "    <tr>\n",
       "      <th>...</th>\n",
       "      <td>...</td>\n",
       "    </tr>\n",
       "    <tr>\n",
       "      <th>36</th>\n",
       "      <td>0.963519</td>\n",
       "    </tr>\n",
       "    <tr>\n",
       "      <th>37</th>\n",
       "      <td>0.968132</td>\n",
       "    </tr>\n",
       "    <tr>\n",
       "      <th>38</th>\n",
       "      <td>0.972515</td>\n",
       "    </tr>\n",
       "    <tr>\n",
       "      <th>39</th>\n",
       "      <td>0.976589</td>\n",
       "    </tr>\n",
       "    <tr>\n",
       "      <th>40</th>\n",
       "      <td>0.980406</td>\n",
       "    </tr>\n",
       "    <tr>\n",
       "      <th>41</th>\n",
       "      <td>0.983983</td>\n",
       "    </tr>\n",
       "    <tr>\n",
       "      <th>42</th>\n",
       "      <td>0.987334</td>\n",
       "    </tr>\n",
       "    <tr>\n",
       "      <th>43</th>\n",
       "      <td>0.990353</td>\n",
       "    </tr>\n",
       "    <tr>\n",
       "      <th>44</th>\n",
       "      <td>0.992830</td>\n",
       "    </tr>\n",
       "    <tr>\n",
       "      <th>45</th>\n",
       "      <td>0.994323</td>\n",
       "    </tr>\n",
       "    <tr>\n",
       "      <th>46</th>\n",
       "      <td>0.995647</td>\n",
       "    </tr>\n",
       "    <tr>\n",
       "      <th>47</th>\n",
       "      <td>0.996538</td>\n",
       "    </tr>\n",
       "    <tr>\n",
       "      <th>48</th>\n",
       "      <td>0.997304</td>\n",
       "    </tr>\n",
       "    <tr>\n",
       "      <th>49</th>\n",
       "      <td>0.997919</td>\n",
       "    </tr>\n",
       "    <tr>\n",
       "      <th>50</th>\n",
       "      <td>0.998463</td>\n",
       "    </tr>\n",
       "    <tr>\n",
       "      <th>51</th>\n",
       "      <td>0.998841</td>\n",
       "    </tr>\n",
       "    <tr>\n",
       "      <th>52</th>\n",
       "      <td>0.999190</td>\n",
       "    </tr>\n",
       "    <tr>\n",
       "      <th>53</th>\n",
       "      <td>0.999414</td>\n",
       "    </tr>\n",
       "    <tr>\n",
       "      <th>54</th>\n",
       "      <td>0.999585</td>\n",
       "    </tr>\n",
       "    <tr>\n",
       "      <th>55</th>\n",
       "      <td>0.999681</td>\n",
       "    </tr>\n",
       "    <tr>\n",
       "      <th>56</th>\n",
       "      <td>0.999753</td>\n",
       "    </tr>\n",
       "    <tr>\n",
       "      <th>57</th>\n",
       "      <td>0.999819</td>\n",
       "    </tr>\n",
       "    <tr>\n",
       "      <th>58</th>\n",
       "      <td>0.999880</td>\n",
       "    </tr>\n",
       "    <tr>\n",
       "      <th>59</th>\n",
       "      <td>0.999925</td>\n",
       "    </tr>\n",
       "    <tr>\n",
       "      <th>60</th>\n",
       "      <td>0.999963</td>\n",
       "    </tr>\n",
       "    <tr>\n",
       "      <th>61</th>\n",
       "      <td>0.999994</td>\n",
       "    </tr>\n",
       "    <tr>\n",
       "      <th>62</th>\n",
       "      <td>1.000000</td>\n",
       "    </tr>\n",
       "    <tr>\n",
       "      <th>63</th>\n",
       "      <td>1.000000</td>\n",
       "    </tr>\n",
       "    <tr>\n",
       "      <th>64</th>\n",
       "      <td>1.000000</td>\n",
       "    </tr>\n",
       "    <tr>\n",
       "      <th>65</th>\n",
       "      <td>1.000000</td>\n",
       "    </tr>\n",
       "  </tbody>\n",
       "</table>\n",
       "<p>65 rows × 1 columns</p>\n",
       "</div>"
      ],
      "text/plain": [
       "         tot\n",
       "1   0.165760\n",
       "2   0.256865\n",
       "3   0.336175\n",
       "4   0.400882\n",
       "5   0.452496\n",
       "6   0.497157\n",
       "7   0.536240\n",
       "8   0.574404\n",
       "9   0.607856\n",
       "10  0.638018\n",
       "11  0.666707\n",
       "12  0.693448\n",
       "13  0.714894\n",
       "14  0.734720\n",
       "15  0.753322\n",
       "16  0.770724\n",
       "17  0.787213\n",
       "18  0.801855\n",
       "19  0.815799\n",
       "20  0.828915\n",
       "21  0.841689\n",
       "22  0.853623\n",
       "23  0.864340\n",
       "24  0.874324\n",
       "25  0.884000\n",
       "26  0.893249\n",
       "27  0.902403\n",
       "28  0.910583\n",
       "29  0.918641\n",
       "30  0.926364\n",
       "..       ...\n",
       "36  0.963519\n",
       "37  0.968132\n",
       "38  0.972515\n",
       "39  0.976589\n",
       "40  0.980406\n",
       "41  0.983983\n",
       "42  0.987334\n",
       "43  0.990353\n",
       "44  0.992830\n",
       "45  0.994323\n",
       "46  0.995647\n",
       "47  0.996538\n",
       "48  0.997304\n",
       "49  0.997919\n",
       "50  0.998463\n",
       "51  0.998841\n",
       "52  0.999190\n",
       "53  0.999414\n",
       "54  0.999585\n",
       "55  0.999681\n",
       "56  0.999753\n",
       "57  0.999819\n",
       "58  0.999880\n",
       "59  0.999925\n",
       "60  0.999963\n",
       "61  0.999994\n",
       "62  1.000000\n",
       "63  1.000000\n",
       "64  1.000000\n",
       "65  1.000000\n",
       "\n",
       "[65 rows x 1 columns]"
      ]
     },
     "execution_count": 299,
     "metadata": {},
     "output_type": "execute_result"
    }
   ],
   "source": [
    "comp_tot.columns = ['tot']\n",
    "comp_tot"
   ]
  },
  {
   "cell_type": "markdown",
   "metadata": {},
   "source": [
    "3, 9 and 27"
   ]
  },
  {
   "cell_type": "markdown",
   "metadata": {},
   "source": [
    "(c) Fit an ordinary least squares linear regression using N1, N2, and N3 number of principal components, respectively. (This is called Principal Components Regression) Use entire dataset, e.g. 442 rows. Evaluate the models using mean squared error (MSE). (4pts)"
   ]
  },
  {
   "cell_type": "markdown",
   "metadata": {},
   "source": [
    "Resource:\n",
    "http://www.science.smith.edu/~jcrouser/SDS293/labs/2016/lab11/Lab%2011%20-%20PCR%20and%20PLS%20Regression%20in%20Python.pdf"
   ]
  },
  {
   "cell_type": "code",
   "execution_count": 327,
   "metadata": {},
   "outputs": [
    {
     "name": "stderr",
     "output_type": "stream",
     "text": [
      "/Users/ReeceWooten/anaconda/lib/python2.7/site-packages/sklearn/cross_validation.py:44: DeprecationWarning: This module was deprecated in version 0.18 in favor of the model_selection module into which all the refactored classes and functions are moved. Also note that the interface of the new CV iterators are different from that of this module. This module will be removed in 0.20.\n",
      "  \"This module will be removed in 0.20.\", DeprecationWarning)\n"
     ]
    }
   ],
   "source": [
    "%matplotlib inline\n",
    "import pandas as pd\n",
    "import numpy as np\n",
    "import matplotlib.pyplot as plt\n",
    "from sklearn.preprocessing import scale\n",
    "from sklearn import cross_validation\n",
    "from sklearn.decomposition import PCA\n",
    "from sklearn.linear_model import LinearRegression\n",
    "from sklearn.cross_decomposition import PLSRegression, PLSSVD\n",
    "from sklearn.metrics import mean_squared_error"
   ]
  },
  {
   "cell_type": "code",
   "execution_count": 348,
   "metadata": {},
   "outputs": [
    {
     "data": {
      "text/plain": [
       "5120.6055477937271"
      ]
     },
     "execution_count": 348,
     "metadata": {},
     "output_type": "execute_result"
    }
   ],
   "source": [
    "X_reduced = fit.transform(X)[:,:3]\n",
    "# Train regression model on training data\n",
    "regr = LinearRegression()\n",
    "regr.fit(X_reduced, y)\n",
    "# Prediction with test data\n",
    "pred = regr.predict(X_reduced)\n",
    "mean_squared_error(y, pred)"
   ]
  },
  {
   "cell_type": "code",
   "execution_count": 349,
   "metadata": {
    "scrolled": true
   },
   "outputs": [
    {
     "data": {
      "text/plain": [
       "3942.7867514263485"
      ]
     },
     "execution_count": 349,
     "metadata": {},
     "output_type": "execute_result"
    }
   ],
   "source": [
    "X_reduced = fit.transform(X)[:,:9]\n",
    "# Train regression model on training data\n",
    "regr = LinearRegression()\n",
    "regr.fit(X_reduced, y)\n",
    "# Prediction with test data\n",
    "pred = regr.predict(X_reduced)\n",
    "mean_squared_error(y, pred)"
   ]
  },
  {
   "cell_type": "code",
   "execution_count": 350,
   "metadata": {
    "scrolled": true
   },
   "outputs": [
    {
     "data": {
      "text/plain": [
       "2857.425949000683"
      ]
     },
     "execution_count": 350,
     "metadata": {},
     "output_type": "execute_result"
    }
   ],
   "source": [
    "X_reduced = fit.transform(X)[:,:27]\n",
    "# Train regression model on training data\n",
    "regr = LinearRegression()\n",
    "regr.fit(X_reduced, y)\n",
    "# Prediction with test data\n",
    "pred = regr.predict(X_reduced)\n",
    "mean_squared_error(y, pred)"
   ]
  },
  {
   "cell_type": "markdown",
   "metadata": {},
   "source": [
    "# Question 5 -  Feature Selection ( 5 points )\n",
    "\n",
    "Explain what you understand by the two wrapper methods for feature selection (forward and backward selection) (no more than 1 paragraph). \n"
   ]
  },
  {
   "cell_type": "markdown",
   "metadata": {
    "collapsed": true
   },
   "source": [
    "Forward selection is the method of adding variables to the model one by one and only stopping when the newly added variables are no longer statistically significant. This method has draw backs because adding variables to the model one by one will sometimes cause previously significant variables to become insignificant. Backward Selection fixes this draw back by putting all the variables into the model and only taking out the ones which are insignificant, and rerunning the model until all variables are significant. Backward selection also has a drawback that a previously dropped variable might be significant in the final reduced model, but was taken out. "
   ]
  },
  {
   "cell_type": "code",
   "execution_count": null,
   "metadata": {
    "collapsed": true
   },
   "outputs": [],
   "source": []
  }
 ],
 "metadata": {
  "anaconda-cloud": {},
  "kernelspec": {
   "display_name": "Python 2",
   "language": "python",
   "name": "python2"
  },
  "language_info": {
   "codemirror_mode": {
    "name": "ipython",
    "version": 2
   },
   "file_extension": ".py",
   "mimetype": "text/x-python",
   "name": "python",
   "nbconvert_exporter": "python",
   "pygments_lexer": "ipython2",
   "version": "2.7.13"
  }
 },
 "nbformat": 4,
 "nbformat_minor": 1
}
