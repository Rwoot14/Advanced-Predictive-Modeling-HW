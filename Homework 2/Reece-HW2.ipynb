{
 "cells": [
  {
   "cell_type": "markdown",
   "metadata": {},
   "source": [
    "\n",
    "# <p style=\"text-align: center;\">MIS382: Advanced Predictive Modeling</p>\n",
    "# <p style=\"text-align: center;\">Assignment 2</p>\n",
    "## <p style=\"text-align: center;\">Total points: 40</p>\n",
    "## <p style=\"text-align: center;\">Due: Wed, October 4th, submitted via Canvas by 11:59 pm</p>\n",
    "\n",
    "Your homework should be written in a **Jupyter notebook**. You may work in groups of two if you wish. Only one student per team needs to submit the assignment on Canvas.  But be sure to include name and UTID for both students.  Homework groups will be created and managed through Canvas, so please do not arbitrarily change your homework group.  \n",
    "\n",
    "Also, please make sure your code runs and the graphics (and anything else) are displayed in your notebook before submitting. (%matplotlib inline)"
   ]
  },
  {
   "cell_type": "markdown",
   "metadata": {},
   "source": [
    "# Question 1 - Bias-variance Trandeoff (2pts)\n",
    "How does the choice of K in the K-nearest neighbor classifier reflect a bias-variance tradeoff?\n",
    "\n",
    "## Answer"
   ]
  },
  {
   "cell_type": "markdown",
   "metadata": {},
   "source": [
    "When K=1 K-nearest neighbors will classify a point the same as its first nearest neighbor, this has the danger of overfitting the data causing the variance of the model to be high. This means that when the model is deployed on an unseen data set, there will likley be a lot of error. In contrast when K is high all the points will be classified as the largest class in the distribution, this will cause bias in the model because there is no information gained from K-nearest neighbors, and when the model is deployed on unseen data the accuracy rate will be the baseline accruacy."
   ]
  },
  {
   "cell_type": "markdown",
   "metadata": {},
   "source": [
    "# Question 2: Data Exploration and Regression Analysis (4+3+4+4=15pts)\n",
    "\n",
    "Consider the dataset provided (russett_full_v2.csv) about agricultural inequality, industrial development and political instability in different countries. More information about it can be found [here](https://www.rdocumentation.org/packages/plspm/versions/0.4.9/topics/russett) though the data itself is slightly different than that referenced in the link.\n",
    "\n",
    "a) (4 points) Generate box-plots of the \"rent\" (% of farmers that rent all their land), \"inst\" (measure of political stability in the executive branch), \"ecks\" (number of violent internal war incidents ) and \"demo_score\" ( derived measure of the level of a country's democracy from 1945 to 61 ) and identify the cutoff values for outliers. \n",
    "\n",
    "Generate 3 scatterplots of \"rent\" against \"demo_score\", \"inst\" against \"demo_score\" and \"ecks\" against \"demo_score\" with the identified outliers colored differently than non-outliers in each; comment on how inclusion of the outliers would affect a predictive model for the \"demo_score\" response.  \n",
    "\n",
    "b) (3 points) Let us try to fit an MLR, using ordinary least squares, to this dataset with \"demo_score\" as the dependent variable using only the predictors 'rent','inst', and 'ecks' . \n",
    "\n",
    "    from sklearn.model_selection import train_test_split\n",
    "    X_train, X_test, y_train, y_test = train_test_split(X,y,test_size = 0.30, random_state=22)   \n",
    "\n",
    "Report the RMSE obtained on both X_train and X_test. How much does this increase when you score your model on X_test?\n",
    "\n",
    "c) (4 points ) Try to predict ”demo_score” using a robust regression using Huber loss.  You can use the [sklearn package](  http://scikit-learn.org/stable/modules/generated/sklearn.linear_model.HuberRegressor.html).  Set regularization parameter alpha to 0.0 and all other parameters as default.\n",
    "Report RMSE obtained on both X_train and X_test.\n",
    "\n",
    "d) (4 points ) Compare and comment on the model fits obtained in (b) and (c) and plot the residual plots using all data for each model. How do outliers affect the relative performance of ordinary least squares regression, and robust regression with Huber loss in general? \n",
    "\n",
    "## Answer"
   ]
  },
  {
   "cell_type": "markdown",
   "metadata": {},
   "source": [
    "a) (4 points) Generate box-plots of the \"rent\" (% of farmers that rent all their land), \"inst\" (measure of political stability in the executive branch), \"ecks\" (number of violent internal war incidents ) and \"demo_score\" ( derived measure of the level of a country's democracy from 1945 to 61 ) and identify the cutoff values for outliers.\n"
   ]
  },
  {
   "cell_type": "code",
   "execution_count": 1,
   "metadata": {},
   "outputs": [
    {
     "name": "stdout",
     "output_type": "stream",
     "text": [
      "Populating the interactive namespace from numpy and matplotlib\n"
     ]
    }
   ],
   "source": [
    "from pandas import Series, DataFrame\n",
    "import pandas as pd\n",
    "%pylab inline"
   ]
  },
  {
   "cell_type": "code",
   "execution_count": 2,
   "metadata": {
    "scrolled": false
   },
   "outputs": [
    {
     "ename": "IOError",
     "evalue": "File /Users/ReeceWooten/Documents/School /MSBA/Fall /Adv.Predictive/russett_full_v2.csv does not exist",
     "output_type": "error",
     "traceback": [
      "\u001b[1;31m---------------------------------------------------------------------------\u001b[0m",
      "\u001b[1;31mIOError\u001b[0m                                   Traceback (most recent call last)",
      "\u001b[1;32m<ipython-input-2-9c972e8d0120>\u001b[0m in \u001b[0;36m<module>\u001b[1;34m()\u001b[0m\n\u001b[1;32m----> 1\u001b[1;33m \u001b[0mdata\u001b[0m\u001b[1;33m=\u001b[0m\u001b[0mpd\u001b[0m\u001b[1;33m.\u001b[0m\u001b[0mread_csv\u001b[0m\u001b[1;33m(\u001b[0m\u001b[1;34m'/Users/ReeceWooten/Documents/School /MSBA/Fall /Adv.Predictive/russett_full_v2.csv'\u001b[0m\u001b[1;33m)\u001b[0m\u001b[1;33m\u001b[0m\u001b[0m\n\u001b[0m\u001b[0;32m      2\u001b[0m \u001b[0mdata\u001b[0m\u001b[1;33m[\u001b[0m\u001b[1;33m:\u001b[0m\u001b[1;36m5\u001b[0m\u001b[1;33m]\u001b[0m\u001b[1;33m\u001b[0m\u001b[0m\n",
      "\u001b[1;32mC:\\Users\\deeks\\Anaconda2\\lib\\site-packages\\pandas\\io\\parsers.pyc\u001b[0m in \u001b[0;36mparser_f\u001b[1;34m(filepath_or_buffer, sep, delimiter, header, names, index_col, usecols, squeeze, prefix, mangle_dupe_cols, dtype, engine, converters, true_values, false_values, skipinitialspace, skiprows, nrows, na_values, keep_default_na, na_filter, verbose, skip_blank_lines, parse_dates, infer_datetime_format, keep_date_col, date_parser, dayfirst, iterator, chunksize, compression, thousands, decimal, lineterminator, quotechar, quoting, escapechar, comment, encoding, dialect, tupleize_cols, error_bad_lines, warn_bad_lines, skipfooter, skip_footer, doublequote, delim_whitespace, as_recarray, compact_ints, use_unsigned, low_memory, buffer_lines, memory_map, float_precision)\u001b[0m\n\u001b[0;32m    653\u001b[0m                     skip_blank_lines=skip_blank_lines)\n\u001b[0;32m    654\u001b[0m \u001b[1;33m\u001b[0m\u001b[0m\n\u001b[1;32m--> 655\u001b[1;33m         \u001b[1;32mreturn\u001b[0m \u001b[0m_read\u001b[0m\u001b[1;33m(\u001b[0m\u001b[0mfilepath_or_buffer\u001b[0m\u001b[1;33m,\u001b[0m \u001b[0mkwds\u001b[0m\u001b[1;33m)\u001b[0m\u001b[1;33m\u001b[0m\u001b[0m\n\u001b[0m\u001b[0;32m    656\u001b[0m \u001b[1;33m\u001b[0m\u001b[0m\n\u001b[0;32m    657\u001b[0m     \u001b[0mparser_f\u001b[0m\u001b[1;33m.\u001b[0m\u001b[0m__name__\u001b[0m \u001b[1;33m=\u001b[0m \u001b[0mname\u001b[0m\u001b[1;33m\u001b[0m\u001b[0m\n",
      "\u001b[1;32mC:\\Users\\deeks\\Anaconda2\\lib\\site-packages\\pandas\\io\\parsers.pyc\u001b[0m in \u001b[0;36m_read\u001b[1;34m(filepath_or_buffer, kwds)\u001b[0m\n\u001b[0;32m    403\u001b[0m \u001b[1;33m\u001b[0m\u001b[0m\n\u001b[0;32m    404\u001b[0m     \u001b[1;31m# Create the parser.\u001b[0m\u001b[1;33m\u001b[0m\u001b[1;33m\u001b[0m\u001b[0m\n\u001b[1;32m--> 405\u001b[1;33m     \u001b[0mparser\u001b[0m \u001b[1;33m=\u001b[0m \u001b[0mTextFileReader\u001b[0m\u001b[1;33m(\u001b[0m\u001b[0mfilepath_or_buffer\u001b[0m\u001b[1;33m,\u001b[0m \u001b[1;33m**\u001b[0m\u001b[0mkwds\u001b[0m\u001b[1;33m)\u001b[0m\u001b[1;33m\u001b[0m\u001b[0m\n\u001b[0m\u001b[0;32m    406\u001b[0m \u001b[1;33m\u001b[0m\u001b[0m\n\u001b[0;32m    407\u001b[0m     \u001b[1;32mif\u001b[0m \u001b[0mchunksize\u001b[0m \u001b[1;32mor\u001b[0m \u001b[0miterator\u001b[0m\u001b[1;33m:\u001b[0m\u001b[1;33m\u001b[0m\u001b[0m\n",
      "\u001b[1;32mC:\\Users\\deeks\\Anaconda2\\lib\\site-packages\\pandas\\io\\parsers.pyc\u001b[0m in \u001b[0;36m__init__\u001b[1;34m(self, f, engine, **kwds)\u001b[0m\n\u001b[0;32m    762\u001b[0m             \u001b[0mself\u001b[0m\u001b[1;33m.\u001b[0m\u001b[0moptions\u001b[0m\u001b[1;33m[\u001b[0m\u001b[1;34m'has_index_names'\u001b[0m\u001b[1;33m]\u001b[0m \u001b[1;33m=\u001b[0m \u001b[0mkwds\u001b[0m\u001b[1;33m[\u001b[0m\u001b[1;34m'has_index_names'\u001b[0m\u001b[1;33m]\u001b[0m\u001b[1;33m\u001b[0m\u001b[0m\n\u001b[0;32m    763\u001b[0m \u001b[1;33m\u001b[0m\u001b[0m\n\u001b[1;32m--> 764\u001b[1;33m         \u001b[0mself\u001b[0m\u001b[1;33m.\u001b[0m\u001b[0m_make_engine\u001b[0m\u001b[1;33m(\u001b[0m\u001b[0mself\u001b[0m\u001b[1;33m.\u001b[0m\u001b[0mengine\u001b[0m\u001b[1;33m)\u001b[0m\u001b[1;33m\u001b[0m\u001b[0m\n\u001b[0m\u001b[0;32m    765\u001b[0m \u001b[1;33m\u001b[0m\u001b[0m\n\u001b[0;32m    766\u001b[0m     \u001b[1;32mdef\u001b[0m \u001b[0mclose\u001b[0m\u001b[1;33m(\u001b[0m\u001b[0mself\u001b[0m\u001b[1;33m)\u001b[0m\u001b[1;33m:\u001b[0m\u001b[1;33m\u001b[0m\u001b[0m\n",
      "\u001b[1;32mC:\\Users\\deeks\\Anaconda2\\lib\\site-packages\\pandas\\io\\parsers.pyc\u001b[0m in \u001b[0;36m_make_engine\u001b[1;34m(self, engine)\u001b[0m\n\u001b[0;32m    983\u001b[0m     \u001b[1;32mdef\u001b[0m \u001b[0m_make_engine\u001b[0m\u001b[1;33m(\u001b[0m\u001b[0mself\u001b[0m\u001b[1;33m,\u001b[0m \u001b[0mengine\u001b[0m\u001b[1;33m=\u001b[0m\u001b[1;34m'c'\u001b[0m\u001b[1;33m)\u001b[0m\u001b[1;33m:\u001b[0m\u001b[1;33m\u001b[0m\u001b[0m\n\u001b[0;32m    984\u001b[0m         \u001b[1;32mif\u001b[0m \u001b[0mengine\u001b[0m \u001b[1;33m==\u001b[0m \u001b[1;34m'c'\u001b[0m\u001b[1;33m:\u001b[0m\u001b[1;33m\u001b[0m\u001b[0m\n\u001b[1;32m--> 985\u001b[1;33m             \u001b[0mself\u001b[0m\u001b[1;33m.\u001b[0m\u001b[0m_engine\u001b[0m \u001b[1;33m=\u001b[0m \u001b[0mCParserWrapper\u001b[0m\u001b[1;33m(\u001b[0m\u001b[0mself\u001b[0m\u001b[1;33m.\u001b[0m\u001b[0mf\u001b[0m\u001b[1;33m,\u001b[0m \u001b[1;33m**\u001b[0m\u001b[0mself\u001b[0m\u001b[1;33m.\u001b[0m\u001b[0moptions\u001b[0m\u001b[1;33m)\u001b[0m\u001b[1;33m\u001b[0m\u001b[0m\n\u001b[0m\u001b[0;32m    986\u001b[0m         \u001b[1;32melse\u001b[0m\u001b[1;33m:\u001b[0m\u001b[1;33m\u001b[0m\u001b[0m\n\u001b[0;32m    987\u001b[0m             \u001b[1;32mif\u001b[0m \u001b[0mengine\u001b[0m \u001b[1;33m==\u001b[0m \u001b[1;34m'python'\u001b[0m\u001b[1;33m:\u001b[0m\u001b[1;33m\u001b[0m\u001b[0m\n",
      "\u001b[1;32mC:\\Users\\deeks\\Anaconda2\\lib\\site-packages\\pandas\\io\\parsers.pyc\u001b[0m in \u001b[0;36m__init__\u001b[1;34m(self, src, **kwds)\u001b[0m\n\u001b[0;32m   1603\u001b[0m         \u001b[0mkwds\u001b[0m\u001b[1;33m[\u001b[0m\u001b[1;34m'allow_leading_cols'\u001b[0m\u001b[1;33m]\u001b[0m \u001b[1;33m=\u001b[0m \u001b[0mself\u001b[0m\u001b[1;33m.\u001b[0m\u001b[0mindex_col\u001b[0m \u001b[1;32mis\u001b[0m \u001b[1;32mnot\u001b[0m \u001b[0mFalse\u001b[0m\u001b[1;33m\u001b[0m\u001b[0m\n\u001b[0;32m   1604\u001b[0m \u001b[1;33m\u001b[0m\u001b[0m\n\u001b[1;32m-> 1605\u001b[1;33m         \u001b[0mself\u001b[0m\u001b[1;33m.\u001b[0m\u001b[0m_reader\u001b[0m \u001b[1;33m=\u001b[0m \u001b[0mparsers\u001b[0m\u001b[1;33m.\u001b[0m\u001b[0mTextReader\u001b[0m\u001b[1;33m(\u001b[0m\u001b[0msrc\u001b[0m\u001b[1;33m,\u001b[0m \u001b[1;33m**\u001b[0m\u001b[0mkwds\u001b[0m\u001b[1;33m)\u001b[0m\u001b[1;33m\u001b[0m\u001b[0m\n\u001b[0m\u001b[0;32m   1606\u001b[0m \u001b[1;33m\u001b[0m\u001b[0m\n\u001b[0;32m   1607\u001b[0m         \u001b[1;31m# XXX\u001b[0m\u001b[1;33m\u001b[0m\u001b[1;33m\u001b[0m\u001b[0m\n",
      "\u001b[1;32mpandas\\_libs\\parsers.pyx\u001b[0m in \u001b[0;36mpandas._libs.parsers.TextReader.__cinit__ (pandas\\_libs\\parsers.c:4209)\u001b[1;34m()\u001b[0m\n",
      "\u001b[1;32mpandas\\_libs\\parsers.pyx\u001b[0m in \u001b[0;36mpandas._libs.parsers.TextReader._setup_parser_source (pandas\\_libs\\parsers.c:8873)\u001b[1;34m()\u001b[0m\n",
      "\u001b[1;31mIOError\u001b[0m: File /Users/ReeceWooten/Documents/School /MSBA/Fall /Adv.Predictive/russett_full_v2.csv does not exist"
     ]
    }
   ],
   "source": [
    "data=pd.read_csv('/Users/ReeceWooten/Documents/School /MSBA/Fall /Adv.Predictive/russett_full_v2.csv')\n",
    "data[:5]"
   ]
  },
  {
   "cell_type": "code",
<<<<<<< HEAD
   "execution_count": null,
=======
   "execution_count": 96,
>>>>>>> 032a479571b7b91886ad8afbc245e4c67d3c920b
   "metadata": {
    "collapsed": true,
    "scrolled": true
   },
   "outputs": [],
   "source": [
    "index_change=data[['country','rent','inst','ecks','demo_score']]\n",
    "index_change=index_change.set_index('country')"
   ]
  },
  {
   "cell_type": "code",
   "execution_count": null,
   "metadata": {
    "scrolled": true
   },
   "outputs": [],
   "source": [
    "index_change['rent'].plot(kind='bar')"
   ]
  },
  {
   "cell_type": "code",
<<<<<<< HEAD
   "execution_count": null,
   "metadata": {},
   "outputs": [],
=======
   "execution_count": 196,
   "metadata": {},
   "outputs": [
    {
     "data": {
      "image/png": "iVBORw0KGgoAAAANSUhEUgAAAXoAAAD8CAYAAAB5Pm/hAAAABHNCSVQICAgIfAhkiAAAAAlwSFlz\nAAALEgAACxIB0t1+/AAADh9JREFUeJzt3X9snPddwPH3h7jbuqx0jTqdoqatKxE6h6DCOE1jDWDL\nZQxaSEGiqqWSsFqykEYIP6bIkD8q/ogUCirkDwaJSMBSJ0+lTGpZp3aR5RMErQVn62CtqVK2pnVJ\nmnawrq5Gt4QPf/jpcFsnju/x+exv3i8purvHz3PPJ9LlrSeP7+6JzESSVK4f6PYAkqTOMvSSVDhD\nL0mFM/SSVDhDL0mFM/SSVDhDL0mFM/SSVDhDL0mF6+n2AABXX3119vb2dnsMaUGvv/4669ev7/YY\n0jscP378lcz8wGLrrYrQ9/b2MjU11e0xpAW1Wi36+/u7PYb0DhFx8mLW89SNJBVu0dBHxJGIOBMR\nX5u3bENEHI2IE9XtVfN+9vsR8WxEPBMRP9epwSVJF+dijuj/Bvj425aNAhOZuRmYqB4TEVuAO4Ef\nqbb5dESsW7ZpJUlLtmjoM/MfgP962+LtwFh1fwy4fd7yz2bmG5n5DeBZ4MPLNKskqQ3tnqNvZOap\n6v5poFHdvwZ4Yd56M9UySVKX1H7XTWZmRCz56iURMQKMADQaDVqtVt1RpGU1MTHB/fffz/PPP891\n113HXXfdxeDgYLfHkpas3dC/FBEbM/NURGwEzlTLXwSunbfepmrZO2TmIeAQQLPZTN++ptVkfHyc\ngwcPvuX98wcPHmTLli0MDQ11cTJp6do9dfMwsLO6vxN4aN7yOyPi3RFxA7AZ+Od6I0orb8+ePfT0\n9HDkyBEee+wxjhw5Qk9PD3v27On2aNKSXczbK8eBLwE3RsRMRAwD+4GfjYgTwC3VYzLzKeAB4Gng\nUeCTmXmuU8NLnTIzM8PY2BgDAwP09PQwMDDA2NgYMzMz3R5NWrJFT91k5vn+n7rgycrM3AfsqzOU\nJGn5+MlYaQGbNm1ix44dTE5OcvbsWSYnJ9mxYwebNm3q9mjSkq2K77qRVpt7772X3bt3c/fdd3Py\n5Emuv/56zp07x3333dft0aQl84heWsDQ0BAHDhxg/fr1RATr16/nwIEDvuNGa1JkLvkt8Muu2Wym\n316p1cpvr9RqFRHHM7O52Hoe0UtS4Qy9JBXO0EtS4Qy9JBXO0EtS4Qy9JBXO0EtS4Qy9JBXO0EtS\n4Qy9JBXO0EtS4Qy9JBXO0EtS4Qy9JBXO0EtS4Qy9JBXO0EtS4Qy9JBXO0EtS4Qy9JBXO0EtS4Qy9\nJBXO0EtS4Qy9JBXO0EtS4Qy9JBXO0EtS4Qy9JBWuVugj4nci4qmI+FpEjEfEeyJiQ0QcjYgT1e1V\nyzWsJGnp2g59RFwD/BbQzMytwDrgTmAUmMjMzcBE9ViS1CV1T930AJdHRA/wXuA/ge3AWPXzMeD2\nmvuQJNXQdugz80XgT4DngVPAq5n5RaCRmaeq1U4DjdpTSpLa1tPuhtW59+3ADcC3gL+NiLvmr5OZ\nGRF5nu1HgBGARqNBq9VqdxSpo2ZnZ319ak1rO/TALcA3MvNlgIj4HPBR4KWI2JiZpyJiI3BmoY0z\n8xBwCKDZbGZ/f3+NUaTOabVa+PrUWlbnHP3zwEci4r0REcAgMA08DOys1tkJPFRvRElSHW0f0Wfm\nExHxIPBl4CzwFeaO0N8HPBARw8BJ4I7lGFSS1J46p27IzHuAe962+A3mju4lSauAn4yVpMIZekkq\nnKGXpMIZekkqnKGXpMIZekkqnKGXpMIZekkqnKGXpMIZekkqnKGXpMIZekkqnKGXpMIZekkqnKGX\npMIZeuk8xsfH2bp1K4ODg2zdupXx8fFujyS1pdaFR6RSjY+Ps3fvXg4fPsy5c+dYt24dw8PDAAwN\nDXV5OmlpPKKXFrBv3z4OHz7MwMAAPT09DAwMcPjwYfbt29ft0aQlM/TSAqanp9m2bdtblm3bto3p\n6ekuTSS1z9BLC+jr6+PYsWNvWXbs2DH6+vq6NJHUPkMvLWDv3r0MDw8zOTnJ2bNnmZycZHh4mL17\n93Z7NGnJ/GWstIA3f+G6a9cupqen6evrY9++ff4iVmtSZGa3Z6DZbObU1FS3x5AW1Gq16O/v7/YY\n0jtExPHMbC62nqduJKlwhl6SCmfoJalwhl6SCmfoJalwhl6SCmfoJalwhl6SCmfoJalwhl6SClcr\n9BHx/oh4MCL+PSKmI+InI2JDRByNiBPV7VXLNawkaenqHtEfAB7NzA8CNwHTwCgwkZmbgYnqsSSp\nS9oOfURcCfw0cBggM7+bmd8CtgNj1WpjwO11h5Qkta/O1xTfALwM/HVE3AQcB3YDjcw8Va1zGmgs\ntHFEjAAjAI1Gg1arVWMUqXNmZ2d9fWpNa/triiOiCTwO3JyZT0TEAeDbwK7MfP+89f47My94nt6v\nKdZq5tcUa7Vaia8pngFmMvOJ6vGDwIeAlyJiYzXERuBMjX1Ikmpq+9RNZp6OiBci4sbMfAYYBJ6u\n/uwE9le3Dy3LpNIyiIgV2c9quKCP9Ka6lxLcBXwmIt4FfB34BHP/S3ggIoaBk8AdNfchLZt2Atw7\n+gjP7b+1A9NIK6NW6DPzSWCh80ODdZ5XkrR8/GSsJBXO0EtS4Qy9JBXO0EtS4Qy9JBXO0EtS4Qy9\nJBXO0EtS4Qy9JBXO0EtS4Qy9JBXO0EtS4Qy9JBXO0EtS4Qy9JBXO0EtS4Qy9JBXO0EtS4Qy9JBXO\n0EtS4Qy9JBXO0EtS4Qy9JBXO0EtS4Qy9JBXO0EtS4Qy9JBXO0EtS4Qy9JBXO0EtS4Qy9JBXO0EtS\n4WqHPiLWRcRXIuLz1eMNEXE0Ik5Ut1fVH1OS1K7lOKLfDUzPezwKTGTmZmCieixJ6pJaoY+ITcCt\nwF/NW7wdGKvujwG319mHJKmeukf0fwbsAf533rJGZp6q7p8GGjX3IUmqoafdDSPiNuBMZh6PiP6F\n1snMjIg8z/YjwAhAo9Gg1Wq1O4rUcb4+tZa1HXrgZuCXIuIXgPcAPxgR9wMvRcTGzDwVERuBMwtt\nnJmHgEMAzWYz+/v7a4widdCjj+DrU2tZZC54wL20J5k7ov9UZt4WEX8MfDMz90fEKLAhM/dcaPtm\ns5lTU1O159Cl56Y//CKvfud73R6jtisvv4yv3vOxbo+hNSYijmdmc7H16hzRn89+4IGIGAZOAnd0\nYB8SAK9+53s8t//Wju6j1Wp1/Ii+d/SRjj6/Lm3LEvrMbAGt6v43gcHleF5JUn1+MlaSCmfoJalw\nhl6SCmfoJalwhl6SCmfoJalwhl6SCmfoJalwhl6SCmfoJalwhl6SCmfoJalwhl6SCmfoJalwhl6S\nCteJC49IK+aKvlF+dGy08zsa6+zTX9EH0NkLqOjSZei1pr02vd8rTEmL8NSNJBXO0EtS4Qy9JBXO\n0EtS4Qy9JBXO0EtS4Qy9JBXO0EtS4Qy9JBXO0EtS4Qy9JBXO0EtS4Qy9JBXO0EtS4Qy9JBWu7dBH\nxLURMRkRT0fEUxGxu1q+ISKORsSJ6vaq5RtXkrRUdY7ozwK/l5lbgI8An4yILcAoMJGZm4GJ6rEk\nqUvaDn1mnsrML1f3XwOmgWuA7fz/hdfGgNvrDilJat+ynKOPiF7gx4EngEZmnqp+dBpoLMc+JEnt\nqX3N2Ih4H/B3wG9n5rcj4vs/y8yMiDzPdiPACECj0aDVatUdRZeoTr92ZmdnV+T16b8BdUpkLtjh\ni9s44jLg88BjmXlftewZoD8zT0XERqCVmTde6HmazWZOTU21PYcuXaVcVPvKyy/jq/d8rNtjaI2J\niOOZ2VxsvbaP6GPu0P0wMP1m5CsPAzuB/dXtQ+3uQ1rMc/tv7fg+ekcfWZH9SJ1S59TNzcCvAf8W\nEU9Wy/6AucA/EBHDwEngjnojSpLqaDv0mXkMiPP8eLDd55UkLS8/GStJhTP0klQ4Qy9JhTP0klQ4\nQy9JhTP0klQ4Qy9JhTP0klQ4Qy9JhTP0klQ4Qy9JhTP0klQ4Qy9JhTP0klQ4Qy9JhTP0klQ4Qy9J\nhTP0klQ4Qy9JhTP0klQ4Qy9JhTP0klQ4Qy9JhTP0klQ4Qy9JhTP0klQ4Qy9JhTP0klQ4Qy9JhTP0\nklQ4Qy9Jhevp9gDSSoqI9rb7o6Wtn5lt7UfqhI4d0UfExyPimYh4NiJGO7UfaSkyc8l/Jicnl7yN\ntJp0JPQRsQ74c+DngS3AUERs6cS+JEkX1qkj+g8Dz2bm1zPzu8Bnge0d2pck6QI6FfprgBfmPZ6p\nlkmSVljXfhkbESPACECj0aDVanVrFOmCZmdnfX1qTetU6F8Erp33eFO17Psy8xBwCKDZbGZ/f3+H\nRpHqabVa+PrUWtapUzf/AmyOiBsi4l3AncDDHdqXJOkCOnJEn5lnI+I3gceAdcCRzHyqE/uSJF1Y\nx87RZ+YXgC906vklSRcnVsOHOyLiZeBkt+eQzuNq4JVuDyEt4PrM/MBiK62K0EurWURMZWaz23NI\n7fJLzSSpcIZekgpn6KXFHer2AFIdnqOXpMJ5RC9JhTP0Upsioj8iPtrtOaTFGHoJiDlL/ffQDxh6\nrXqeo9clKyJ6mfuajieAnwDuBX4DeDfwH8AnMnM2Ip4DxoBfBC4DfhX4H+Bx4BzwMrArM/9xZf8G\n0sXxiF6Xus3Ap4GfAYaBWzLzQ8AU8Lvz1nulWv4XwKcy8zngL4E/zcwfM/Jazbw4uC51JzPz8Yi4\njbnLXv5TdQHxdwFfmrfe56rb48CvrOyIUj2GXpe616vbAI5m5tB51nujuj2H/260xnjqRprzOHBz\nRPwQQESsj4gfXmSb14ArOj6ZVJOhl4DMfBn4dWA8Iv6VudM2H1xks78HfjkinoyIn+rwiFLbfNeN\nJBXOI3pJKpyhl6TCGXpJKpyhl6TCGXpJKpyhl6TCGXpJKpyhl6TC/R9MK5GXQchy2AAAAABJRU5E\nrkJggg==\n",
      "text/plain": [
       "<matplotlib.figure.Figure at 0x115030750>"
      ]
     },
     "metadata": {},
     "output_type": "display_data"
    }
   ],
   "source": [
    "_,bp=pd.DataFrame.boxplot(index_change,'rent',return_type='both')\n",
    "whiskers = [whiskers.get_ydata() for whiskers in bp[\"whiskers\"]]"
   ]
  },
  {
   "cell_type": "code",
   "execution_count": 197,
   "metadata": {},
   "outputs": [
    {
     "data": {
      "text/plain": [
       "[array([ 19.65,   2.5 ]), array([ 38.8,  58.7])]"
      ]
     },
     "execution_count": 197,
     "metadata": {},
     "output_type": "execute_result"
    }
   ],
>>>>>>> 032a479571b7b91886ad8afbc245e4c67d3c920b
   "source": [
    "whiskers"
   ]
  },
  {
   "cell_type": "code",
   "execution_count": null,
   "metadata": {
    "scrolled": true
   },
   "outputs": [],
   "source": [
    "index_change['inst'].plot(kind='bar')"
   ]
  },
  {
   "cell_type": "code",
<<<<<<< HEAD
   "execution_count": null,
   "metadata": {},
   "outputs": [],
=======
   "execution_count": 194,
   "metadata": {},
   "outputs": [
    {
     "data": {
      "image/png": "iVBORw0KGgoAAAANSUhEUgAAAXQAAAD8CAYAAABn919SAAAABHNCSVQICAgIfAhkiAAAAAlwSFlz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\nBPEf6pNYTtWGMt4AAAAASUVORK5CYII=\n",
      "text/plain": [
       "<matplotlib.figure.Figure at 0x113864f10>"
      ]
     },
     "metadata": {},
     "output_type": "display_data"
    }
   ],
   "source": [
    "_,bp=pd.DataFrame.boxplot(index_change,'inst',return_type='both')\n",
    "whiskers = [whiskers.get_ydata() for whiskers in bp[\"whiskers\"]]"
   ]
  },
  {
   "cell_type": "code",
   "execution_count": 195,
   "metadata": {},
   "outputs": [
    {
     "data": {
      "text/plain": [
       "[array([ 16.55,  13.  ]), array([ 19.3,  22.6])]"
      ]
     },
     "execution_count": 195,
     "metadata": {},
     "output_type": "execute_result"
    }
   ],
>>>>>>> 032a479571b7b91886ad8afbc245e4c67d3c920b
   "source": [
    "whiskers"
   ]
  },
  {
   "cell_type": "code",
   "execution_count": null,
   "metadata": {
    "scrolled": true
   },
   "outputs": [],
   "source": [
    "index_change['ecks'].plot(kind='bar')"
   ]
  },
  {
   "cell_type": "code",
<<<<<<< HEAD
   "execution_count": null,
   "metadata": {},
   "outputs": [],
=======
   "execution_count": 189,
   "metadata": {},
   "outputs": [
    {
     "data": {
      "image/png": "iVBORw0KGgoAAAANSUhEUgAAAXoAAAD8CAYAAAB5Pm/hAAAABHNCSVQICAgIfAhkiAAAAAlwSFlz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\n",
      "text/plain": [
       "<matplotlib.figure.Figure at 0x114028290>"
      ]
     },
     "metadata": {},
     "output_type": "display_data"
    }
   ],
   "source": [
    "_,bp=pd.DataFrame.boxplot(index_change,'ecks',return_type='both')\n",
    "whiskers = [whiskers.get_ydata() for whiskers in bp[\"whiskers\"]]"
   ]
  },
  {
   "cell_type": "code",
   "execution_count": 191,
   "metadata": {},
   "outputs": [
    {
     "data": {
      "text/plain": [
       "[array([ 4.,  0.]), array([ 23.,  47.])]"
      ]
     },
     "execution_count": 191,
     "metadata": {},
     "output_type": "execute_result"
    }
   ],
>>>>>>> 032a479571b7b91886ad8afbc245e4c67d3c920b
   "source": [
    "whiskers"
   ]
  },
  {
   "cell_type": "code",
   "execution_count": null,
   "metadata": {},
   "outputs": [],
   "source": [
    "index_change['demo_score'].plot(kind='bar')"
   ]
  },
  {
   "cell_type": "code",
<<<<<<< HEAD
   "execution_count": null,
=======
   "execution_count": 192,
>>>>>>> 032a479571b7b91886ad8afbc245e4c67d3c920b
   "metadata": {
    "scrolled": false
   },
<<<<<<< HEAD
   "outputs": [],
=======
   "outputs": [
    {
     "data": {
      "image/png": "iVBORw0KGgoAAAANSUhEUgAAAXoAAAD9CAYAAACyYrxEAAAABHNCSVQICAgIfAhkiAAAAAlwSFlz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\n",
      "text/plain": [
       "<matplotlib.figure.Figure at 0x114b9cdd0>"
      ]
     },
     "metadata": {},
     "output_type": "display_data"
    }
   ],
   "source": [
    "_,bp=pd.DataFrame.boxplot(index_change,'demo_score',return_type='both')\n",
    "whiskers = [whiskers.get_ydata() for whiskers in bp[\"whiskers\"]]"
   ]
  },
  {
   "cell_type": "code",
   "execution_count": 193,
   "metadata": {},
   "outputs": [
    {
     "data": {
      "text/plain": [
       "[array([ 22.5,   0. ]), array([ 75.,  98.])]"
      ]
     },
     "execution_count": 193,
     "metadata": {},
     "output_type": "execute_result"
    }
   ],
   "source": [
    "whiskers"
   ]
  },
  {
   "cell_type": "markdown",
   "metadata": {},
   "source": [
    "Generate 3 scatterplots of \"rent\" against \"demo_score\", \"inst\" against \"demo_score\" and \"ecks\" against \"demo_score\" with the identified outliers colored differently than non-outliers in each; comment on how inclusion of the outliers would affect a predictive model for the \"demo_score\" response.\n"
   ]
  },
  {
   "cell_type": "code",
   "execution_count": 257,
   "metadata": {},
   "outputs": [
    {
     "data": {
      "text/plain": [
       "<matplotlib.text.Text at 0x119e79fd0>"
      ]
     },
     "execution_count": 257,
     "metadata": {},
     "output_type": "execute_result"
    },
    {
     "data": {
      "image/png": "iVBORw0KGgoAAAANSUhEUgAAAYkAAAEWCAYAAACT7WsrAAAABHNCSVQICAgIfAhkiAAAAAlwSFlz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\nAElFTkSuQmCC\n",
      "text/plain": [
       "<matplotlib.figure.Figure at 0x113bbecd0>"
      ]
     },
     "metadata": {},
     "output_type": "display_data"
    }
   ],
   "source": [
    "outlier_inst=index_change[(index_change['inst']>22.6) | (index_change['inst']<13)]\n",
    "ecks=index_change[index_change['inst']<58.7]\n",
    "\n",
    "ax=ecks.plot(kind='scatter',x='inst',y='demo_score',color='blue')\n",
    "\n",
    "outlier_inst.plot(kind='scatter',x='inst',y='demo_score',color='red',ax=ax,label='Outliers')\n",
    "title('Inst Vs. Demo Score')"
   ]
  },
  {
   "cell_type": "code",
   "execution_count": 256,
   "metadata": {},
   "outputs": [
    {
     "data": {
      "text/plain": [
       "<matplotlib.text.Text at 0x119c9d7d0>"
      ]
     },
     "execution_count": 256,
     "metadata": {},
     "output_type": "execute_result"
    },
    {
     "data": {
      "image/png": "iVBORw0KGgoAAAANSUhEUgAAAYkAAAEWCAYAAACT7WsrAAAABHNCSVQICAgIfAhkiAAAAAlwSFlz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\nAABJRU5ErkJggg==\n",
      "text/plain": [
       "<matplotlib.figure.Figure at 0x11938ff50>"
      ]
     },
     "metadata": {},
     "output_type": "display_data"
    }
   ],
   "source": [
    "outlier_rent=index_change[index_change['rent']>58.7]\n",
    "ecks=index_change[index_change['rent']<58.7]\n",
    "\n",
    "ax=ecks.plot(kind='scatter',x='rent',y='demo_score',color='blue')\n",
    "\n",
    "outlier_rent.plot(kind='scatter',x='rent',y='demo_score',color='red',ax=ax,label='Outliers')\n",
    "title('Rent Vs. Demo Score')"
   ]
  },
  {
   "cell_type": "code",
   "execution_count": 205,
   "metadata": {},
   "outputs": [],
   "source": [
    "outlier_ecks=index_change[index_change['ecks']>47]\n",
    "ecks=index_change[index_change['ecks']<47]"
   ]
  },
  {
   "cell_type": "code",
   "execution_count": 253,
   "metadata": {},
   "outputs": [
    {
     "data": {
      "text/plain": [
       "<matplotlib.text.Text at 0x119822f50>"
      ]
     },
     "execution_count": 253,
     "metadata": {},
     "output_type": "execute_result"
    },
    {
     "data": {
      "image/png": "iVBORw0KGgoAAAANSUhEUgAAAYkAAAEWCAYAAACT7WsrAAAABHNCSVQICAgIfAhkiAAAAAlwSFlz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\nRU5ErkJggg==\n",
      "text/plain": [
       "<matplotlib.figure.Figure at 0x115852f10>"
      ]
     },
     "metadata": {},
     "output_type": "display_data"
    }
   ],
>>>>>>> 032a479571b7b91886ad8afbc245e4c67d3c920b
   "source": [
    "ax=ecks.plot(kind='scatter',x='ecks',y='demo_score',color='blue')\n",
    "\n",
    "outlier_ecks.plot(kind='scatter',x='ecks',y='demo_score',color='red',ax=ax,label='Outliers')\n",
    "title('Ecks Vs. Demo Score')"
   ]
  },
  {
   "cell_type": "markdown",
   "metadata": {},
   "source": [
    "b) (3 points) Let us try to fit an MLR, using ordinary least squares, to this dataset with \"demo_score\" as the dependent variable using only the predictors 'rent','inst', and 'ecks' .\n",
    "from sklearn.model_selection import train_test_split\n",
    "X_train, X_test, y_train, y_test = train_test_split(X,y,test_size = 0.30, random_state=22)   \n",
    "Report the RMSE obtained on both X_train and X_test. How much does this increase when you score your model on X_test?\n"
   ]
  },
  {
   "cell_type": "code",
<<<<<<< HEAD
   "execution_count": null,
=======
   "execution_count": 29,
>>>>>>> 032a479571b7b91886ad8afbc245e4c67d3c920b
   "metadata": {
    "collapsed": true
   },
   "outputs": [],
   "source": [
    "# Special packages\n",
    "import statsmodels.api as sm\n",
    "from patsy import dmatrices\n",
    "y, X = dmatrices('demo_score ~ rent+inst+ecks', data=data, return_type='dataframe')"
   ]
  },
  {
   "cell_type": "code",
   "execution_count": null,
   "metadata": {
    "collapsed": true
   },
   "outputs": [],
   "source": [
    "from sklearn.model_selection import train_test_split\n",
    "import matplotlib.pyplot as plt\n",
    "import numpy as np\n",
    "from sklearn import datasets, linear_model\n",
    "from sklearn.metrics import mean_squared_error, r2_score\n",
    "X_train, X_test, y_train, y_test = train_test_split(X,y,test_size = 0.30, random_state=22)"
   ]
  },
  {
   "cell_type": "code",
   "execution_count": null,
   "metadata": {
    "collapsed": true
   },
   "outputs": [],
   "source": [
    "regr = linear_model.LinearRegression()\n",
    "regr.fit(X_train, y_train)\n",
    "y_pred_train_ols = regr.predict(X_train)\n"
   ]
  },
  {
   "cell_type": "code",
   "execution_count": null,
   "metadata": {},
   "outputs": [],
   "source": [
    "train_rmse=sqrt(mean_squared_error(y_train, y_pred_train_ols))\n",
    "# The mean squared error\n",
    "print(\"Root Mean squared error on X_test: %.2f\"\n",
    "      % sqrt(mean_squared_error(y_train, y_pred_train_ols)))"
   ]
  },
  {
   "cell_type": "code",
   "execution_count": null,
   "metadata": {
    "collapsed": true
   },
   "outputs": [],
   "source": [
    "y_pred_test_ols = regr.predict(X_test)\n"
   ]
  },
  {
   "cell_type": "code",
   "execution_count": null,
   "metadata": {},
   "outputs": [],
   "source": [
    "test_rmse=sqrt(mean_squared_error(y_test, y_pred_test_ols))\n",
    "# The mean squared error\n",
    "print(\"Root Mean squared error on X_test: %.2f\"\n",
    "      % sqrt(mean_squared_error(y_test, y_pred_test_ols)))"
   ]
  },
  {
   "cell_type": "code",
   "execution_count": null,
   "metadata": {},
   "outputs": [],
   "source": [
    "test_rmse-train_rmse"
   ]
  },
  {
   "cell_type": "markdown",
   "metadata": {},
   "source": [
    "c) (4 points ) Try to predict ”demo_score” using a robust regression using Huber loss. You can use the sklearn package. Set regularization parameter alpha to 0.0 and all other parameters as default. Report RMSE obtained on both X_train and X_test.\n"
   ]
  },
  {
   "cell_type": "code",
   "execution_count": null,
   "metadata": {
    "collapsed": true
   },
   "outputs": [],
   "source": [
    "from sklearn.linear_model import HuberRegressor"
   ]
  },
  {
   "cell_type": "code",
   "execution_count": null,
   "metadata": {
    "collapsed": true
   },
   "outputs": [],
   "source": [
    "y_train_array=array(y_train)"
   ]
  },
  {
   "cell_type": "code",
   "execution_count": null,
   "metadata": {
    "collapsed": true
   },
   "outputs": [],
   "source": [
    "huber=HuberRegressor(alpha=0.0)"
   ]
  },
  {
   "cell_type": "code",
   "execution_count": null,
   "metadata": {},
   "outputs": [],
   "source": [
    "huber.fit(X=X_train,y=y_train_array)"
   ]
  },
  {
   "cell_type": "code",
   "execution_count": null,
   "metadata": {
    "collapsed": true
   },
   "outputs": [],
   "source": [
    "y_pred_test_huber = huber.predict(X_test)\n"
   ]
  },
  {
   "cell_type": "code",
   "execution_count": null,
   "metadata": {},
   "outputs": [],
   "source": [
    "test_rmse=sqrt(mean_squared_error(y_test, y_pred_test_huber))\n",
    "# The mean squared error\n",
    "print(\"Root Mean squared error on X_test: %.2f\"\n",
    "      % sqrt(mean_squared_error(y_test, y_pred_test_huber)))"
   ]
  },
  {
   "cell_type": "code",
   "execution_count": null,
   "metadata": {
    "collapsed": true
   },
   "outputs": [],
   "source": [
    "y_pred_train_huber = huber.predict(X_train)"
   ]
  },
  {
   "cell_type": "code",
   "execution_count": null,
   "metadata": {},
   "outputs": [],
   "source": [
    "train_rmse=sqrt(mean_squared_error(y_train, y_pred_train_huber))\n",
    "# The mean squared error\n",
    "print(\"Root Mean squared error on X_train: %.2f\"\n",
    "      % sqrt(mean_squared_error(y_train, y_pred_train_huber)))"
   ]
  },
  {
   "cell_type": "markdown",
   "metadata": {},
   "source": [
    "d) (4 points ) Compare and comment on the model fits obtained in (b) and (c) and plot the residual plots using all data for each model. How do outliers affect the relative performance of ordinary least squares regression, and robust regression with Huber loss in general?"
   ]
  },
  {
   "cell_type": "code",
   "execution_count": 220,
   "metadata": {
    "collapsed": true
   },
   "outputs": [],
   "source": [
    "regr = linear_model.LinearRegression()\n",
    "regr.fit(X, y)\n",
    "y_pred_ols = regr.predict(X)"
   ]
  },
  {
   "cell_type": "code",
   "execution_count": 221,
   "metadata": {
    "collapsed": true
   },
   "outputs": [],
   "source": [
    "y_array=array(y)"
   ]
  },
  {
   "cell_type": "code",
<<<<<<< HEAD
   "execution_count": 87,
   "metadata": {
    "collapsed": true
   },
=======
   "execution_count": 222,
   "metadata": {},
>>>>>>> 032a479571b7b91886ad8afbc245e4c67d3c920b
   "outputs": [],
   "source": [
    "import itertools\n",
    "y_=itertools.chain.from_iterable(y_array)\n",
    "y_array=array(list(y_))\n",
    "\n",
    "import itertools\n",
    "y_p=itertools.chain.from_iterable(y_pred_ols)\n",
    "y_pred_array=array(list(y_p))"
   ]
  },
  {
   "cell_type": "code",
   "execution_count": 223,
   "metadata": {
    "collapsed": true,
    "scrolled": true
   },
   "outputs": [],
   "source": [
    "residual_ols=y_array-y_pred_array"
   ]
  },
  {
   "cell_type": "code",
   "execution_count": 252,
   "metadata": {
    "scrolled": false
   },
   "outputs": [
    {
     "data": {
      "text/plain": [
       "<matplotlib.text.Text at 0x1196cb090>"
      ]
     },
     "execution_count": 252,
     "metadata": {},
     "output_type": "execute_result"
    },
    {
     "data": {
      "image/png": "iVBORw0KGgoAAAANSUhEUgAAAX0AAAEICAYAAACzliQjAAAABHNCSVQICAgIfAhkiAAAAAlwSFlz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\nB5sAAAAASUVORK5CYII=\n",
      "text/plain": [
       "<matplotlib.figure.Figure at 0x1196b4a10>"
      ]
     },
     "metadata": {},
     "output_type": "display_data"
    }
   ],
   "source": [
    "scatter(y=residual_ols,x=y_pred_array)\n",
    "title('Fitted vs OLS Residuals')"
   ]
  },
  {
   "cell_type": "code",
   "execution_count": 121,
   "metadata": {
    "collapsed": true
   },
   "outputs": [],
   "source": [
    "y_array=array(y)"
   ]
  },
  {
   "cell_type": "code",
<<<<<<< HEAD
   "execution_count": 78,
=======
   "execution_count": 122,
>>>>>>> 032a479571b7b91886ad8afbc245e4c67d3c920b
   "metadata": {
    "collapsed": true
   },
   "outputs": [],
   "source": [
    "import itertools\n",
    "train=itertools.chain.from_iterable(y_array)\n",
    "y_array=array(list(train))"
   ]
  },
  {
   "cell_type": "code",
   "execution_count": 124,
   "metadata": {
    "collapsed": true
   },
   "outputs": [],
   "source": [
    "huber=HuberRegressor(alpha=0.0)"
   ]
  },
  {
   "cell_type": "code",
   "execution_count": 125,
   "metadata": {},
   "outputs": [
    {
     "data": {
      "text/plain": [
       "HuberRegressor(alpha=0.0, epsilon=1.35, fit_intercept=True, max_iter=100,\n",
       "        tol=1e-05, warm_start=False)"
      ]
     },
     "execution_count": 125,
     "metadata": {},
     "output_type": "execute_result"
    }
   ],
   "source": [
    "huber.fit(X=X,y=y)"
   ]
  },
  {
   "cell_type": "code",
   "execution_count": 129,
   "metadata": {
    "collapsed": true
   },
   "outputs": [],
   "source": [
    "y_pred_huber = huber.predict(X)\n"
   ]
  },
  {
   "cell_type": "code",
   "execution_count": 130,
   "metadata": {
    "collapsed": true
   },
   "outputs": [],
   "source": [
    "residual_test=y_array-y_pred_huber"
   ]
  },
  {
   "cell_type": "code",
   "execution_count": 251,
   "metadata": {
    "scrolled": true
   },
   "outputs": [
    {
     "data": {
      "text/plain": [
       "<matplotlib.text.Text at 0x11956b910>"
      ]
     },
     "execution_count": 251,
     "metadata": {},
     "output_type": "execute_result"
    },
    {
     "data": {
      "image/png": "iVBORw0KGgoAAAANSUhEUgAAAX0AAAEICAYAAACzliQjAAAABHNCSVQICAgIfAhkiAAAAAlwSFlz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\nQd/MrEYc9M3MasRB38ysRhz0zcxq5P8D280uvviEeI8AAAAASUVORK5CYII=\n",
      "text/plain": [
       "<matplotlib.figure.Figure at 0x11954ae10>"
      ]
     },
     "metadata": {},
     "output_type": "display_data"
    }
   ],
   "source": [
    "scatter(y=residual_test,x=y_pred_huber)\n",
    "title('Fitted vs Huber Residuals')"
   ]
  },
  {
   "cell_type": "markdown",
   "metadata": {},
   "source": [
    "# Question 3 - Sampling (4+4=8pts)\n",
    "\n",
    "1. NBC has come up with an extreme TV show, and each of its viewers either likes or hates it. (no middle ground here; we are in a “black and white age”). NBC wants to estimate what fraction p of its audience like the show by “randomly” calling n viewers and tallying their responses so as to estimate the true value of p to a fractional accuracy of within ±ε%, with a confidence of (1 − α) × 100%. For α = 0.10, ε = 0.03 (i.e. your answer will be $\\hat{p}$ ± 0.03), what is the minimum value of n needed if true value (i) p = 0.5, (ii) p=0.25? \n",
    "\n",
    "2. Suppose for a certain value of p and choice of ε, you calculate that you will need 1000 samples for α = 0.02. You now decide to obtain a more accurate answer by either (i) reducing α to 0.01, keeping the same ε or by (ii) reducing ε by a factor of 2 from the original value, and increasing α to 0.05. In each case how many samples would you need now?\n",
    "\n",
    "## Answer"
   ]
  },
  {
   "cell_type": "markdown",
   "metadata": {},
   "source": [
    "1. NBC has come up with an extreme TV show, and each of its viewers either likes or hates it. (no middle ground here; we are in a “black and white age”). NBC wants to estimate what fraction p of its audience like the show by “randomly” calling n viewers and tallying their responses so as to estimate the true value of p to a fractional accuracy of within ±ε%, with a confidence of (1 − α) × 100%. For α = 0.10, ε = 0.03 (i.e. your answer will be  p̂ p^  ± 0.03), what is the minimum value of n needed if true value (i) p = 0.5, (ii) p=0.25?"
   ]
  },
  {
   "cell_type": "markdown",
   "metadata": {},
   "source": [
    "i. \n",
    "n = p(1-p) (za/2/ e) 2\n",
    "\n",
    ".5(.5)(1.645/.03)^2=752"
   ]
  },
  {
   "cell_type": "markdown",
   "metadata": {},
   "source": [
    ".25(.75)(1.645/.03)^2=564"
   ]
  },
  {
   "cell_type": "markdown",
   "metadata": {},
   "source": [
    "2 Suppose for a certain value of p and choice of ε, you calculate that you will need 1000 samples for α = 0.02. You now decide to obtain a more accurate answer by either (i) reducing α to 0.01, keeping the same ε or by (ii) reducing ε by a factor of 2 from the original value, and increasing α to 0.05. In each case how many samples would you need now?"
   ]
  },
  {
   "cell_type": "markdown",
   "metadata": {},
   "source": [
    ".5(.5)(3.3/.03)^2= 3025"
   ]
  },
  {
   "cell_type": "markdown",
   "metadata": {},
   "source": [
    ".5(.5)(1.96/.015)^2= 4268.44"
   ]
  },
  {
   "cell_type": "markdown",
   "metadata": {},
   "source": [
    "# Question 4 - Principal Component Analysis (10 points)\n",
    "\n",
    "Import the diabetes dataset as in Q1 and add the interaction variables.\n",
    "You should have 65 variables and one target variable."
   ]
  },
  {
   "cell_type": "code",
   "execution_count": 237,
   "metadata": {
    "collapsed": true
   },
   "outputs": [],
   "source": [
    "from sklearn import datasets\n",
    "diabetes = datasets.load_diabetes()\n",
    "X = diabetes.data\n",
    "y = diabetes.target\n",
    "\n",
    "from sklearn.preprocessing import PolynomialFeatures\n",
    "X = PolynomialFeatures(2, include_bias=False).fit_transform(X)"
   ]
  },
  {
   "cell_type": "markdown",
   "metadata": {},
   "source": [
    "Next, use [StandardScaler](http://scikit-learn.org/stable/modules/generated/sklearn.preprocessing.StandardScaler.html) to center and scale each feature as follows."
   ]
  },
  {
   "cell_type": "code",
   "execution_count": 238,
   "metadata": {
    "collapsed": true
   },
   "outputs": [],
   "source": [
    "from sklearn.preprocessing import StandardScaler\n",
    "stdScaler = StandardScaler()\n",
    "X = stdScaler.fit_transform(X)"
   ]
  },
  {
   "cell_type": "code",
   "execution_count": 239,
   "metadata": {},
   "outputs": [
    {
     "data": {
      "text/plain": [
       "array([[ 0.80050009,  1.06548848,  1.29708846, ..., -0.60582632,\n",
       "        -0.58432873, -0.5786918 ],\n",
       "       [-0.03956713, -0.93853666, -1.08218016, ...,  0.78127042,\n",
       "         2.18675392,  1.85055575],\n",
       "       [ 1.79330681,  1.06548848,  0.93453324, ..., -0.73183676,\n",
       "        -0.46890921, -0.47161867],\n",
       "       ..., \n",
       "       [ 0.87686984,  1.06548848, -0.33441002, ..., -0.02102345,\n",
       "        -0.7405101 , -0.59987616],\n",
       "       [-0.9560041 , -0.93853666,  0.82123474, ..., -0.09079363,\n",
       "        -0.91899961, -0.47161867],\n",
       "       [-0.9560041 , -0.93853666, -1.53537419, ..., -0.72871818,\n",
       "        -0.44336002, -0.6682648 ]])"
      ]
     },
     "execution_count": 239,
     "metadata": {},
     "output_type": "execute_result"
    }
   ],
   "source": [
    "X"
   ]
  },
  {
   "cell_type": "markdown",
   "metadata": {},
   "source": [
    "(a) Perform PCA using the sklearn [PCA](http://scikit-learn.org/stable/modules/generated/sklearn.decomposition.PCA.html) package.  Create i) a scree plot depicting the proportion of variance and ii) a cumulative proportion of variance explained by the principal components of the data (X matrix).  Refer to Figure 10.4 of JW for an example.  You may use the output attribute *explained variance ratio*. (3pts)\n",
    "\n",
    "(b) How many principal components (N1, N2, N3) are required to explain cumulative variance of 30%, 60%, and 90%, respectively? (3pts)\n",
    "\n",
    "(c) Fit an ordinary least squares linear regression using N1, N2, and N3 number of principal components, respectively. (This is called Principal Components Regression) Use entire dataset, e.g. 442 rows. Evaluate the models using mean squared error (MSE). (4pts)\n",
    "\n",
    "## Answer"
   ]
  },
  {
   "cell_type": "markdown",
   "metadata": {},
   "source": [
    "(a) Perform PCA using the sklearn PCA package. Create i) a scree plot depicting the proportion of variance and ii) a cumulative proportion of variance explained by the principal components of the data (X matrix). Refer to Figure 10.4 of JW for an example. You may use the output attribute explained variance ratio. (3pts)"
   ]
  },
  {
   "cell_type": "code",
   "execution_count": 240,
   "metadata": {
    "collapsed": true
   },
   "outputs": [],
   "source": [
    "import numpy as np\n",
    "from sklearn.decomposition import PCA"
   ]
  },
  {
   "cell_type": "code",
   "execution_count": 241,
   "metadata": {
    "collapsed": true
   },
   "outputs": [],
   "source": [
    "pca=PCA(n_components=65)"
   ]
  },
  {
   "cell_type": "code",
   "execution_count": 242,
   "metadata": {
    "collapsed": true
   },
   "outputs": [],
   "source": [
    "n_components=array(range(1,66))"
   ]
  },
  {
   "cell_type": "code",
   "execution_count": 243,
   "metadata": {},
   "outputs": [],
   "source": [
    "fit=pca.fit(X)\n",
    "variance=fit.explained_variance_ratio_"
   ]
  },
  {
   "cell_type": "code",
   "execution_count": 246,
   "metadata": {},
   "outputs": [
    {
     "data": {
      "text/plain": [
       "<matplotlib.text.Text at 0x11598f190>"
      ]
     },
     "execution_count": 246,
     "metadata": {},
     "output_type": "execute_result"
    },
    {
     "data": {
      "image/png": "iVBORw0KGgoAAAANSUhEUgAAAYQAAAEICAYAAABfz4NwAAAABHNCSVQICAgIfAhkiAAAAAlwSFlz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\nAAAASUVORK5CYII=\n",
      "text/plain": [
       "<matplotlib.figure.Figure at 0x11938fdd0>"
      ]
     },
     "metadata": {},
     "output_type": "display_data"
    }
   ],
   "source": [
    "fig, ax = plt.subplots()\n",
    "line1, = ax.plot(n_components, variance, linewidth=2,\n",
    "                 label='Dashes set retroactively')\n",
    "title('Scree Plot')"
   ]
  },
  {
   "cell_type": "code",
   "execution_count": 248,
   "metadata": {
    "collapsed": true
   },
   "outputs": [],
   "source": [
    "def running_sum(a):\n",
    "  tot = 0\n",
    "  for item in a:\n",
    "    tot += item\n",
    "    yield tot"
   ]
  },
  {
   "cell_type": "code",
   "execution_count": 249,
   "metadata": {
    "collapsed": true
   },
   "outputs": [],
   "source": [
    "tot=list(running_sum(variance))"
   ]
  },
  {
   "cell_type": "code",
   "execution_count": 250,
   "metadata": {},
   "outputs": [
    {
     "data": {
      "text/plain": [
       "<matplotlib.text.Text at 0x1193fd790>"
      ]
     },
     "execution_count": 250,
     "metadata": {},
     "output_type": "execute_result"
    },
    {
     "data": {
      "image/png": "iVBORw0KGgoAAAANSUhEUgAAAXcAAAEICAYAAACktLTqAAAABHNCSVQICAgIfAhkiAAAAAlwSFlz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\n",
      "text/plain": [
       "<matplotlib.figure.Figure at 0x113bbec90>"
      ]
     },
     "metadata": {},
     "output_type": "display_data"
    }
   ],
   "source": [
    "fig, ax = plt.subplots()\n",
    "line1, = ax.plot(n_components, tot, linewidth=2,\n",
    "                 label='Dashes set retroactively')\n",
    "title('Cumulative Proportion Plot')"
   ]
  },
  {
   "cell_type": "markdown",
   "metadata": {},
   "source": [
    "(b) How many principal components (N1, N2, N3) are required to explain cumulative variance of 30%, 60%, and 90%, respectively? (3pts)\n"
   ]
  },
  {
   "cell_type": "code",
   "execution_count": 271,
   "metadata": {
    "collapsed": true,
    "scrolled": true
   },
   "outputs": [],
   "source": [
    "comp_tot=DataFrame(tot,n_components)"
   ]
  },
  {
   "cell_type": "code",
   "execution_count": 299,
   "metadata": {
    "scrolled": true
   },
   "outputs": [
    {
     "data": {
      "text/html": [
       "<div>\n",
       "<style>\n",
       "    .dataframe thead tr:only-child th {\n",
       "        text-align: right;\n",
       "    }\n",
       "\n",
       "    .dataframe thead th {\n",
       "        text-align: left;\n",
       "    }\n",
       "\n",
       "    .dataframe tbody tr th {\n",
       "        vertical-align: top;\n",
       "    }\n",
       "</style>\n",
       "<table border=\"1\" class=\"dataframe\">\n",
       "  <thead>\n",
       "    <tr style=\"text-align: right;\">\n",
       "      <th></th>\n",
       "      <th>tot</th>\n",
       "    </tr>\n",
       "  </thead>\n",
       "  <tbody>\n",
       "    <tr>\n",
       "      <th>1</th>\n",
       "      <td>0.165760</td>\n",
       "    </tr>\n",
       "    <tr>\n",
       "      <th>2</th>\n",
       "      <td>0.256865</td>\n",
       "    </tr>\n",
       "    <tr>\n",
       "      <th>3</th>\n",
       "      <td>0.336175</td>\n",
       "    </tr>\n",
       "    <tr>\n",
       "      <th>4</th>\n",
       "      <td>0.400882</td>\n",
       "    </tr>\n",
       "    <tr>\n",
       "      <th>5</th>\n",
       "      <td>0.452496</td>\n",
       "    </tr>\n",
       "    <tr>\n",
       "      <th>6</th>\n",
       "      <td>0.497157</td>\n",
       "    </tr>\n",
       "    <tr>\n",
       "      <th>7</th>\n",
       "      <td>0.536240</td>\n",
       "    </tr>\n",
       "    <tr>\n",
       "      <th>8</th>\n",
       "      <td>0.574404</td>\n",
       "    </tr>\n",
       "    <tr>\n",
       "      <th>9</th>\n",
       "      <td>0.607856</td>\n",
       "    </tr>\n",
       "    <tr>\n",
       "      <th>10</th>\n",
       "      <td>0.638018</td>\n",
       "    </tr>\n",
       "    <tr>\n",
       "      <th>11</th>\n",
       "      <td>0.666707</td>\n",
       "    </tr>\n",
       "    <tr>\n",
       "      <th>12</th>\n",
       "      <td>0.693448</td>\n",
       "    </tr>\n",
       "    <tr>\n",
       "      <th>13</th>\n",
       "      <td>0.714894</td>\n",
       "    </tr>\n",
       "    <tr>\n",
       "      <th>14</th>\n",
       "      <td>0.734720</td>\n",
       "    </tr>\n",
       "    <tr>\n",
       "      <th>15</th>\n",
       "      <td>0.753322</td>\n",
       "    </tr>\n",
       "    <tr>\n",
       "      <th>16</th>\n",
       "      <td>0.770724</td>\n",
       "    </tr>\n",
       "    <tr>\n",
       "      <th>17</th>\n",
       "      <td>0.787213</td>\n",
       "    </tr>\n",
       "    <tr>\n",
       "      <th>18</th>\n",
       "      <td>0.801855</td>\n",
       "    </tr>\n",
       "    <tr>\n",
       "      <th>19</th>\n",
       "      <td>0.815799</td>\n",
       "    </tr>\n",
       "    <tr>\n",
       "      <th>20</th>\n",
       "      <td>0.828915</td>\n",
       "    </tr>\n",
       "    <tr>\n",
       "      <th>21</th>\n",
       "      <td>0.841689</td>\n",
       "    </tr>\n",
       "    <tr>\n",
       "      <th>22</th>\n",
       "      <td>0.853623</td>\n",
       "    </tr>\n",
       "    <tr>\n",
       "      <th>23</th>\n",
       "      <td>0.864340</td>\n",
       "    </tr>\n",
       "    <tr>\n",
       "      <th>24</th>\n",
       "      <td>0.874324</td>\n",
       "    </tr>\n",
       "    <tr>\n",
       "      <th>25</th>\n",
       "      <td>0.884000</td>\n",
       "    </tr>\n",
       "    <tr>\n",
       "      <th>26</th>\n",
       "      <td>0.893249</td>\n",
       "    </tr>\n",
       "    <tr>\n",
       "      <th>27</th>\n",
       "      <td>0.902403</td>\n",
       "    </tr>\n",
       "    <tr>\n",
       "      <th>28</th>\n",
       "      <td>0.910583</td>\n",
       "    </tr>\n",
       "    <tr>\n",
       "      <th>29</th>\n",
       "      <td>0.918641</td>\n",
       "    </tr>\n",
       "    <tr>\n",
       "      <th>30</th>\n",
       "      <td>0.926364</td>\n",
       "    </tr>\n",
       "    <tr>\n",
       "      <th>...</th>\n",
       "      <td>...</td>\n",
       "    </tr>\n",
       "    <tr>\n",
       "      <th>36</th>\n",
       "      <td>0.963519</td>\n",
       "    </tr>\n",
       "    <tr>\n",
       "      <th>37</th>\n",
       "      <td>0.968132</td>\n",
       "    </tr>\n",
       "    <tr>\n",
       "      <th>38</th>\n",
       "      <td>0.972515</td>\n",
       "    </tr>\n",
       "    <tr>\n",
       "      <th>39</th>\n",
       "      <td>0.976589</td>\n",
       "    </tr>\n",
       "    <tr>\n",
       "      <th>40</th>\n",
       "      <td>0.980406</td>\n",
       "    </tr>\n",
       "    <tr>\n",
       "      <th>41</th>\n",
       "      <td>0.983983</td>\n",
       "    </tr>\n",
       "    <tr>\n",
       "      <th>42</th>\n",
       "      <td>0.987334</td>\n",
       "    </tr>\n",
       "    <tr>\n",
       "      <th>43</th>\n",
       "      <td>0.990353</td>\n",
       "    </tr>\n",
       "    <tr>\n",
       "      <th>44</th>\n",
       "      <td>0.992830</td>\n",
       "    </tr>\n",
       "    <tr>\n",
       "      <th>45</th>\n",
       "      <td>0.994323</td>\n",
       "    </tr>\n",
       "    <tr>\n",
       "      <th>46</th>\n",
       "      <td>0.995647</td>\n",
       "    </tr>\n",
       "    <tr>\n",
       "      <th>47</th>\n",
       "      <td>0.996538</td>\n",
       "    </tr>\n",
       "    <tr>\n",
       "      <th>48</th>\n",
       "      <td>0.997304</td>\n",
       "    </tr>\n",
       "    <tr>\n",
       "      <th>49</th>\n",
       "      <td>0.997919</td>\n",
       "    </tr>\n",
       "    <tr>\n",
       "      <th>50</th>\n",
       "      <td>0.998463</td>\n",
       "    </tr>\n",
       "    <tr>\n",
       "      <th>51</th>\n",
       "      <td>0.998841</td>\n",
       "    </tr>\n",
       "    <tr>\n",
       "      <th>52</th>\n",
       "      <td>0.999190</td>\n",
       "    </tr>\n",
       "    <tr>\n",
       "      <th>53</th>\n",
       "      <td>0.999414</td>\n",
       "    </tr>\n",
       "    <tr>\n",
       "      <th>54</th>\n",
       "      <td>0.999585</td>\n",
       "    </tr>\n",
       "    <tr>\n",
       "      <th>55</th>\n",
       "      <td>0.999681</td>\n",
       "    </tr>\n",
       "    <tr>\n",
       "      <th>56</th>\n",
       "      <td>0.999753</td>\n",
       "    </tr>\n",
       "    <tr>\n",
       "      <th>57</th>\n",
       "      <td>0.999819</td>\n",
       "    </tr>\n",
       "    <tr>\n",
       "      <th>58</th>\n",
       "      <td>0.999880</td>\n",
       "    </tr>\n",
       "    <tr>\n",
       "      <th>59</th>\n",
       "      <td>0.999925</td>\n",
       "    </tr>\n",
       "    <tr>\n",
       "      <th>60</th>\n",
       "      <td>0.999963</td>\n",
       "    </tr>\n",
       "    <tr>\n",
       "      <th>61</th>\n",
       "      <td>0.999994</td>\n",
       "    </tr>\n",
       "    <tr>\n",
       "      <th>62</th>\n",
       "      <td>1.000000</td>\n",
       "    </tr>\n",
       "    <tr>\n",
       "      <th>63</th>\n",
       "      <td>1.000000</td>\n",
       "    </tr>\n",
       "    <tr>\n",
       "      <th>64</th>\n",
       "      <td>1.000000</td>\n",
       "    </tr>\n",
       "    <tr>\n",
       "      <th>65</th>\n",
       "      <td>1.000000</td>\n",
       "    </tr>\n",
       "  </tbody>\n",
       "</table>\n",
       "<p>65 rows × 1 columns</p>\n",
       "</div>"
      ],
      "text/plain": [
       "         tot\n",
       "1   0.165760\n",
       "2   0.256865\n",
       "3   0.336175\n",
       "4   0.400882\n",
       "5   0.452496\n",
       "6   0.497157\n",
       "7   0.536240\n",
       "8   0.574404\n",
       "9   0.607856\n",
       "10  0.638018\n",
       "11  0.666707\n",
       "12  0.693448\n",
       "13  0.714894\n",
       "14  0.734720\n",
       "15  0.753322\n",
       "16  0.770724\n",
       "17  0.787213\n",
       "18  0.801855\n",
       "19  0.815799\n",
       "20  0.828915\n",
       "21  0.841689\n",
       "22  0.853623\n",
       "23  0.864340\n",
       "24  0.874324\n",
       "25  0.884000\n",
       "26  0.893249\n",
       "27  0.902403\n",
       "28  0.910583\n",
       "29  0.918641\n",
       "30  0.926364\n",
       "..       ...\n",
       "36  0.963519\n",
       "37  0.968132\n",
       "38  0.972515\n",
       "39  0.976589\n",
       "40  0.980406\n",
       "41  0.983983\n",
       "42  0.987334\n",
       "43  0.990353\n",
       "44  0.992830\n",
       "45  0.994323\n",
       "46  0.995647\n",
       "47  0.996538\n",
       "48  0.997304\n",
       "49  0.997919\n",
       "50  0.998463\n",
       "51  0.998841\n",
       "52  0.999190\n",
       "53  0.999414\n",
       "54  0.999585\n",
       "55  0.999681\n",
       "56  0.999753\n",
       "57  0.999819\n",
       "58  0.999880\n",
       "59  0.999925\n",
       "60  0.999963\n",
       "61  0.999994\n",
       "62  1.000000\n",
       "63  1.000000\n",
       "64  1.000000\n",
       "65  1.000000\n",
       "\n",
       "[65 rows x 1 columns]"
      ]
     },
     "execution_count": 299,
     "metadata": {},
     "output_type": "execute_result"
    }
   ],
   "source": [
    "comp_tot.columns = ['tot']\n",
    "comp_tot"
   ]
  },
  {
   "cell_type": "markdown",
   "metadata": {},
   "source": [
    "3, 9 and 27"
   ]
  },
  {
   "cell_type": "markdown",
   "metadata": {},
   "source": [
    "(c) Fit an ordinary least squares linear regression using N1, N2, and N3 number of principal components, respectively. (This is called Principal Components Regression) Use entire dataset, e.g. 442 rows. Evaluate the models using mean squared error (MSE). (4pts)"
   ]
  },
  {
   "cell_type": "markdown",
   "metadata": {},
   "source": [
    "Resource:\n",
    "http://www.science.smith.edu/~jcrouser/SDS293/labs/2016/lab11/Lab%2011%20-%20PCR%20and%20PLS%20Regression%20in%20Python.pdf"
   ]
  },
  {
   "cell_type": "code",
   "execution_count": 327,
   "metadata": {},
   "outputs": [
    {
     "name": "stderr",
     "output_type": "stream",
     "text": [
      "/Users/ReeceWooten/anaconda/lib/python2.7/site-packages/sklearn/cross_validation.py:44: DeprecationWarning: This module was deprecated in version 0.18 in favor of the model_selection module into which all the refactored classes and functions are moved. Also note that the interface of the new CV iterators are different from that of this module. This module will be removed in 0.20.\n",
      "  \"This module will be removed in 0.20.\", DeprecationWarning)\n"
     ]
    }
   ],
   "source": [
    "%matplotlib inline\n",
    "import pandas as pd\n",
    "import numpy as np\n",
    "import matplotlib.pyplot as plt\n",
    "from sklearn.preprocessing import scale\n",
    "from sklearn import cross_validation\n",
    "from sklearn.decomposition import PCA\n",
    "from sklearn.linear_model import LinearRegression\n",
    "from sklearn.cross_decomposition import PLSRegression, PLSSVD\n",
    "from sklearn.metrics import mean_squared_error"
   ]
  },
  {
   "cell_type": "code",
   "execution_count": 348,
   "metadata": {},
   "outputs": [
    {
     "data": {
      "text/plain": [
       "5120.6055477937271"
      ]
     },
     "execution_count": 348,
     "metadata": {},
     "output_type": "execute_result"
    }
   ],
   "source": [
    "X_reduced = fit.transform(X)[:,:3]\n",
    "# Train regression model on training data\n",
    "regr = LinearRegression()\n",
    "regr.fit(X_reduced, y)\n",
    "# Prediction with test data\n",
    "pred = regr.predict(X_reduced)\n",
    "mean_squared_error(y, pred)"
   ]
  },
  {
   "cell_type": "code",
   "execution_count": 349,
   "metadata": {
    "scrolled": true
   },
   "outputs": [
    {
     "data": {
      "text/plain": [
       "3942.7867514263485"
      ]
     },
     "execution_count": 349,
     "metadata": {},
     "output_type": "execute_result"
    }
   ],
   "source": [
    "X_reduced = fit.transform(X)[:,:9]\n",
    "# Train regression model on training data\n",
    "regr = LinearRegression()\n",
    "regr.fit(X_reduced, y)\n",
    "# Prediction with test data\n",
    "pred = regr.predict(X_reduced)\n",
    "mean_squared_error(y, pred)"
   ]
  },
  {
   "cell_type": "code",
   "execution_count": 350,
   "metadata": {
    "scrolled": true
   },
   "outputs": [
    {
     "data": {
      "text/plain": [
       "2857.425949000683"
      ]
     },
     "execution_count": 350,
     "metadata": {},
     "output_type": "execute_result"
    }
   ],
   "source": [
    "X_reduced = fit.transform(X)[:,:27]\n",
    "# Train regression model on training data\n",
    "regr = LinearRegression()\n",
    "regr.fit(X_reduced, y)\n",
    "# Prediction with test data\n",
    "pred = regr.predict(X_reduced)\n",
    "mean_squared_error(y, pred)"
   ]
  },
  {
   "cell_type": "markdown",
   "metadata": {},
   "source": [
    "# Question 5 -  Feature Selection ( 5 points )\n",
    "\n",
    "Explain what you understand by the two wrapper methods for feature selection (forward and backward selection) (no more than 1 paragraph). \n"
   ]
  },
  {
   "cell_type": "markdown",
   "metadata": {
    "collapsed": true
   },
   "source": [
    "Forward selection is the method of adding variables to the model one by one and only stopping when the newly added variables are no longer statistically significant. This method has draw backs because adding variables to the model one by one will sometimes cause previously significant variables to become insignificant. Backward Selection fixes this draw back by putting all the variables into the model and only taking out the ones which are insignificant, and rerunning the model until all variables are significant. Backward selection also has a drawback that a previously dropped variable might be significant in the final reduced model, but was taken out. "
   ]
  },
  {
   "cell_type": "code",
   "execution_count": null,
   "metadata": {
    "collapsed": true
   },
   "outputs": [],
   "source": []
  }
 ],
 "metadata": {
  "anaconda-cloud": {},
  "kernelspec": {
   "display_name": "Python 2",
   "language": "python",
   "name": "python2"
  },
  "language_info": {
   "codemirror_mode": {
    "name": "ipython",
    "version": 2
   },
   "file_extension": ".py",
   "mimetype": "text/x-python",
   "name": "python",
   "nbconvert_exporter": "python",
   "pygments_lexer": "ipython2",
   "version": "2.7.13"
  }
 },
 "nbformat": 4,
 "nbformat_minor": 1
}
